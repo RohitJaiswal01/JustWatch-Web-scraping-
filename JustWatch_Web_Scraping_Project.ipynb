{
  "nbformat": 4,
  "nbformat_minor": 0,
  "metadata": {
    "colab": {
      "provenance": [],
      "collapsed_sections": [
        "-xHLaFLPn4yC",
        "NCWbwB1Og3bD",
        "VEg1U1uPzGoj",
        "aqzhL8STqaMX",
        "UOof6-0xFuf6",
        "8CHiu0A5RAuM",
        "edb4gsNcRJQN",
        "N_OroblUQG4r",
        "BUPye0P0QP5I"
      ],
      "include_colab_link": true
    },
    "kernelspec": {
      "name": "python3",
      "display_name": "Python 3"
    },
    "language_info": {
      "name": "python"
    }
  },
  "cells": [
    {
      "cell_type": "markdown",
      "metadata": {
        "id": "view-in-github",
        "colab_type": "text"
      },
      "source": [
        "<a href=\"https://colab.research.google.com/github/RohitJaiswal01/JustWatch-Web-scraping-/blob/main/JustWatch_Web_Scraping_Project.ipynb\" target=\"_parent\"><img src=\"https://colab.research.google.com/assets/colab-badge.svg\" alt=\"Open In Colab\"/></a>"
      ]
    },
    {
      "cell_type": "markdown",
      "source": [
        "# **Web Scraping & Data Handling Challenge**"
      ],
      "metadata": {
        "id": "bKFlk3slQ1ol"
      }
    },
    {
      "cell_type": "markdown",
      "source": [
        "\n",
        "\n",
        "### **Website:**\n",
        "JustWatch -  https://www.justwatch.com/in/movies?release_year_from=2000\n",
        "\n",
        "\n",
        "\n",
        "### **Description:**\n",
        "\n",
        "JustWatch is a popular platform that allows users to search for movies and TV shows across multiple streaming services like Netflix, Amazon Prime, Hulu, etc. For this assignment, you will be required to scrape movie and TV show data from JustWatch using Selenium, Python, and BeautifulSoup. Extract data from HTML, not by directly calling their APIs. Then, perform data filtering and analysis using Pandas, and finally, save the results to a CSV file.\n",
        "\n",
        "### **Tasks:**\n",
        "\n",
        "**1. Web Scraping:**\n",
        "\n",
        "Use BeautifulSoup to scrape the following data from JustWatch:\n",
        "\n",
        "   **a. Movie Information:**\n",
        "\n",
        "      - Movie title\n",
        "      - Release year\n",
        "      - Genre\n",
        "      - IMDb rating\n",
        "      - Streaming services available (Netflix, Amazon Prime, Hulu, etc.)\n",
        "      - URL to the movie page on JustWatch\n",
        "\n",
        "   **b. TV Show Information:**\n",
        "\n",
        "      - TV show title\n",
        "      - Release year\n",
        "      - Genre\n",
        "      - IMDb rating\n",
        "      - Streaming services available (Netflix, Amazon Prime, Hulu, etc.)\n",
        "      - URL to the TV show page on JustWatch\n",
        "\n",
        "  **c. Scope:**\n",
        "\n",
        "```\n",
        " ` - Scrape data for at least 50 movies and 50 TV shows.\n",
        "   - You can choose the entry point (e.g., starting with popular movies,\n",
        "     or a specific genre, etc.) to ensure a diverse dataset.`\n",
        "\n",
        "```\n",
        "\n",
        "\n",
        "**2. Data Filtering & Analysis:**\n",
        "\n",
        "   After scraping the data, use Pandas to perform the following tasks:\n",
        "\n",
        "   **a. Filter movies and TV shows based on specific criteria:**\n",
        "\n",
        "   ```\n",
        "      - Only include movies and TV shows released in the last 2 years (from the current date).\n",
        "      - Only include movies and TV shows with an IMDb rating of 7 or higher.\n",
        "```\n",
        "\n",
        "   **b. Data Analysis:**\n",
        "\n",
        "   ```\n",
        "      - Calculate the average IMDb rating for the scraped movies and TV shows.\n",
        "      - Identify the top 5 genres that have the highest number of available movies and TV shows.\n",
        "      - Determine the streaming service with the most significant number of offerings.\n",
        "      \n",
        "   ```   \n",
        "\n",
        "**3. Data Export:**\n",
        "\n",
        "```\n",
        "   - Dump the filtered and analysed data into a CSV file for further processing and reporting.\n",
        "\n",
        "   - Keep the CSV file in your Drive Folder and Share the Drive link on the colab while keeping view access with anyone.\n",
        "```\n",
        "\n",
        "**Submission:**\n",
        "```\n",
        "- Submit a link to your Colab made for the assignment.\n",
        "\n",
        "- The Colab should contain your Python script (.py format only) with clear\n",
        "  comments explaining the scraping, filtering, and analysis process.\n",
        "\n",
        "- Your Code shouldn't have any errors and should be executable at a one go.\n",
        "\n",
        "- Before Conclusion, Keep your Dataset Drive Link in the Notebook.\n",
        "```\n",
        "\n",
        "\n",
        "\n",
        "**Note:**\n",
        "\n",
        "1. Properly handle errors and exceptions during web scraping to ensure a robust script.\n",
        "\n",
        "2. Make sure your code is well-structured, easy to understand, and follows Python best practices.\n",
        "\n",
        "3. The assignment will be evaluated based on the correctness of the scraped data, accuracy of data filtering and analysis, and the overall quality of the Python code.\n",
        "\n",
        "\n",
        "\n",
        "\n",
        "\n",
        "\n"
      ],
      "metadata": {
        "id": "YU_opgaCYpcO"
      }
    },
    {
      "cell_type": "markdown",
      "source": [
        "# **Start The Project**"
      ],
      "metadata": {
        "id": "k8ptoMlNQ5zB"
      }
    },
    {
      "cell_type": "markdown",
      "source": [
        "## **Task 1:- Web Scrapping**"
      ],
      "metadata": {
        "id": "-xHLaFLPn4yC"
      }
    },
    {
      "cell_type": "code",
      "source": [
        "#Installing all necessary libraries\n",
        "!pip install bs4\n",
        "!pip install requests"
      ],
      "metadata": {
        "id": "axiEsy9ZL3qd",
        "colab": {
          "base_uri": "https://localhost:8080/"
        },
        "outputId": "614c2e04-03cd-4950-9ddd-d452045b61a0"
      },
      "execution_count": null,
      "outputs": [
        {
          "output_type": "stream",
          "name": "stdout",
          "text": [
            "Collecting bs4\n",
            "  Downloading bs4-0.0.2-py2.py3-none-any.whl (1.2 kB)\n",
            "Requirement already satisfied: beautifulsoup4 in /usr/local/lib/python3.10/dist-packages (from bs4) (4.12.3)\n",
            "Requirement already satisfied: soupsieve>1.2 in /usr/local/lib/python3.10/dist-packages (from beautifulsoup4->bs4) (2.5)\n",
            "Installing collected packages: bs4\n",
            "Successfully installed bs4-0.0.2\n",
            "Requirement already satisfied: requests in /usr/local/lib/python3.10/dist-packages (2.31.0)\n",
            "Requirement already satisfied: charset-normalizer<4,>=2 in /usr/local/lib/python3.10/dist-packages (from requests) (3.3.2)\n",
            "Requirement already satisfied: idna<4,>=2.5 in /usr/local/lib/python3.10/dist-packages (from requests) (3.7)\n",
            "Requirement already satisfied: urllib3<3,>=1.21.1 in /usr/local/lib/python3.10/dist-packages (from requests) (2.0.7)\n",
            "Requirement already satisfied: certifi>=2017.4.17 in /usr/local/lib/python3.10/dist-packages (from requests) (2024.7.4)\n"
          ]
        }
      ]
    },
    {
      "cell_type": "code",
      "source": [
        "#import all necessary libraries\n",
        "import requests\n",
        "from bs4 import BeautifulSoup\n",
        "import re\n",
        "import pandas as pd\n",
        "import numpy as np\n",
        "\n",
        "import matplotlib.pyplot as plt\n",
        "from wordcloud import WordCloud\n"
      ],
      "metadata": {
        "id": "omJlLZASQBmU"
      },
      "execution_count": null,
      "outputs": []
    },
    {
      "cell_type": "markdown",
      "source": [
        "## **Scrapping Movies Data**"
      ],
      "metadata": {
        "id": "NCWbwB1Og3bD"
      }
    },
    {
      "cell_type": "code",
      "source": [
        "# defining a function fetch url information\n",
        "def fetch_movie_urls(url):\n",
        "  # Using different agents as headers\n",
        "    headers = {\n",
        "        'User-Agent': 'Mozilla/5.0 (Windows NT 10.0; Win64; x64) AppleWebKit/537.36 (KHTML, like Gecko) Chrome/58.0.3029.110 Safari/537.36 Edge/12.246'\n",
        "    }\n",
        "    # requesting to get html content using url and headers\n",
        "    response = requests.get(url, headers=headers)\n",
        "\n",
        "    # if response is not 200(not approved), then print failed to retrieve\n",
        "    if response.status_code != 200:\n",
        "        return \"Failed to retrieve the page, status code:\", response.status_code\n",
        "    # parsing with BeautifulSoup\n",
        "    soup = BeautifulSoup(response.text, 'html.parser')\n",
        "    return soup\n",
        "\n",
        "# Website url\n",
        "url = 'https://www.justwatch.com/in/movies?release_year_from=2000'\n",
        "\n",
        "# Using fetch_movie_urls on url\n",
        "soup=fetch_movie_urls(url)\n",
        "# print data with prettify()\n",
        "print(soup.prettify())"
      ],
      "metadata": {
        "id": "nPDgza5mQJKr"
      },
      "execution_count": null,
      "outputs": []
    },
    {
      "cell_type": "markdown",
      "source": [
        "## **Fetching Movie URL's**"
      ],
      "metadata": {
        "id": "V-qsNrtIsBEp"
      }
    },
    {
      "cell_type": "code",
      "source": [
        "# code to extract the film urls\n",
        "\n",
        "# finding 'a' for url for each movie\n",
        "movie_links = soup.find_all('a', href=True)\n",
        "movie_urls = [link['href'] for link in movie_links if '/movie/' in link['href']] # if /movie/ present in link['href']  return list['href']\n",
        "\n",
        "\n",
        "# making urls for movies\n",
        "url_list=[]\n",
        "for x in movie_urls:\n",
        "  url_list.append('https://www.justwatch.com'+x) # append  'https://www.justwatch.com'+x, x here is the link['href'] of each movie."
      ],
      "metadata": {
        "id": "nq5qC7_9kywU"
      },
      "execution_count": null,
      "outputs": []
    },
    {
      "cell_type": "code",
      "source": [
        "print(f\"Number of records :{len(url_list)}\")"
      ],
      "metadata": {
        "colab": {
          "base_uri": "https://localhost:8080/"
        },
        "id": "4WyYt5Cbk6qP",
        "outputId": "2410b971-c90a-4af0-95b3-4e5995f08fce"
      },
      "execution_count": null,
      "outputs": [
        {
          "output_type": "stream",
          "name": "stdout",
          "text": [
            "Number of records :110\n"
          ]
        }
      ]
    },
    {
      "cell_type": "markdown",
      "source": [
        "## **Scrapping Movie Title**"
      ],
      "metadata": {
        "id": "Dam_ehZgvgmw"
      }
    },
    {
      "cell_type": "markdown",
      "source": [
        "**Defining a special custom function to handle error 429. Particulary for 429 error as it was occuring frequently**\n",
        "\n",
        "The runtime is going to increase exponentially to retrive every single movie content with the help of custom function.\n",
        "\n",
        "**fetch_movie_urls** was neglected because it was not able to extract content from every single movie appropriately giving error (Failed to retrieve the page, status code:429) on many movie url, hence the length of content list excluding errors being made from this function, every single time is different and having different values as well."
      ],
      "metadata": {
        "id": "NgeLdyyCkFWK"
      }
    },
    {
      "cell_type": "code",
      "source": [
        "# importing librariries for inserting time gap/delay\n",
        "import time\n",
        "\n",
        "# defining function to take url and try retrieving url content\n",
        "def fetch_url_content(url, retries=5):  # retries = number of tries to retrieve content\n",
        "\n",
        "    for i in range(retries):\n",
        "      # Using different agents as headers\n",
        "        headers = {\n",
        "        'User-Agent': 'Mozilla/5.0 (Windows NT 10.0; Win64; x64) AppleWebKit/537.36 (KHTML, like Gecko) Chrome/58.0.3029.110 Safari/537.36 Edge/12.246'\n",
        "           }\n",
        "\n",
        "        # requesting to get html content using url and headers\n",
        "        response = requests.get(url, headers=headers)\n",
        "\n",
        "        # if response_status == 200(approved) parse the content with BeautifulSoup\n",
        "        if response.status_code == 200:\n",
        "            return BeautifulSoup(response.content, 'html.parser')\n",
        "\n",
        "        # if response_status == 429(Too Many Requests error) wait for 2**i seconds\n",
        "        elif response.status_code == 429:\n",
        "            wait_time = 2 ** i  # Exponential backoff\n",
        "            time.sleep(wait_time) # time.sleep method used for making gap/delay\n",
        "\n",
        "        # else print failed to retrieve\n",
        "        else:\n",
        "            print(f\"Failed to retrieve URL: {url} with status code: {response.status_code}\")\n",
        "            return None\n",
        "    return None"
      ],
      "metadata": {
        "id": "q8IN9WTWVAy2"
      },
      "execution_count": null,
      "outputs": []
    },
    {
      "cell_type": "code",
      "source": [
        "# Define empty list for extraction\n",
        "Titles = []\n",
        "\n",
        "# for each url in url_list fetch_url_content\n",
        "for urls in url_list:\n",
        "    individual_movie_soup = fetch_url_content(urls) # fetch_url_content called\n",
        "    title = individual_movie_soup.find('h1').text # h1 is the heading needs to be extracted in text\n",
        "    Titles.append(title) # append heading.text in empty list\n"
      ],
      "metadata": {
        "id": "x5eeOqZNfVDg"
      },
      "execution_count": null,
      "outputs": []
    },
    {
      "cell_type": "code",
      "source": [
        "print(f\"Number of records :{len(Titles)}\")\n",
        "print(Titles)"
      ],
      "metadata": {
        "id": "XMqL3mIkXkP1",
        "colab": {
          "base_uri": "https://localhost:8080/"
        },
        "outputId": "7a514401-dbaf-4b72-bc35-f0dbaa6a0a31"
      },
      "execution_count": null,
      "outputs": [
        {
          "output_type": "stream",
          "name": "stdout",
          "text": [
            "Number of records :110\n",
            "[' Kalki 2898 AD ', ' Munjya ', ' Aavesham ', ' Maharaja ', ' The Gangster, the Cop, the Devil ', ' Family Star ', ' The Fall Guy ', ' Furiosa: A Mad Max Saga ', ' Inside Out ', ' Godzilla Minus One ', ' Maharshi ', ' Godzilla x Kong: The New Empire ', ' Manjummel Boys ', ' Civil War ', ' Kill ', ' Laapataa Ladies ', ' Hit Man ', ' Srikanth ', ' Aranmanai 4 ', ' Garudan ', ' Rockstar ', ' Dune: Part Two ', ' Maharaj ', ' Kingdom of the Planet of the Apes ', ' Oppenheimer ', ' 365 Days ', ' Crew ', ' Inside Out 2 ', ' Je Jatt Vigarh Gya ', ' Guruvayoor Ambalanadayil ', ' Maidaan ', ' Mad Max: Fury Road ', ' Exhuma ', ' Kung Fu Panda 4 ', ' Premalu ', ' Satyabhama ', ' Animal ', ' Do Aur Do Pyaar ', ' 12th Fail ', ' Hanu-Man ', ' Challengers ', ' Salaar ', ' The Goat Life ', ' Mallari ', ' Hereditary ', ' Monster ', ' Addicted ', ' Dune ', ' Bade Miyan Chote Miyan ', ' Madgaon Express ', ' Freelance ', ' A Quiet Place ', ' Rasavathi ', ' Chandu Champion ', ' Gangs of Godavari ', ' Sam Bahadur ', ' PT Sir ', ' Laila Majnu ', ' Anyone But You ', ' A Quiet Place: Day One ', ' Blink ', ' Trigger Warning ', ' Hridayam ', ' Wild Wild Punjab ', ' A Family Affair ', ' K.G.F: Chapter 1 ', \" Harry Potter and the Philosopher's Stone \", ' Kurangu Pedal ', ' Pushpa: The Rise ', ' Monkey Man ', ' Abigail ', ' Siddharth Roy ', ' Spider-Man: No Way Home ', ' The Wolf of Wall Street ', ' Varshangalkku Shesham ', ' Shaitaan ', ' Babylon ', ' Tumbbad ', ' Jerry & Marge Go Large ', ' IF ', ' 777 Charlie ', ' Stree ', ' A Quiet Place Part II ', ' Aquaman and the Lost Kingdom ', ' Triangle ', ' Mr. & Mrs. Mahi ', ' Edge of Tomorrow ', ' Teri Baaton Mein Aisa Uljha Jiya ', ' Beverly Hills Cop: Axel Foley ', ' Malayalee from India ', ' Love Me If You Dare ', ' Perfect Days ', ' Jawan ', ' Late Night with the Devil ', ' Bhaje Vaayu Vegam ', ' The Holdovers ', ' Ghostbusters: Frozen Empire ', ' A Taxi Driver ', ' Fast & Furious Presents: Hobbs & Shaw ', ' Bramayugam ', ' Kalki 2898 AD ', ' Munjya ', ' Aavesham ', ' Maharaja ', ' The Gangster, the Cop, the Devil ', ' Find Me Falling ', ' Skywalkers: A Love Story ', ' Jake Paul vs. Mike Tyson ', ' Mountain Queen: The Summits of Lhakpa Sherpa ', ' Mon Laferte, te amo ']\n"
          ]
        }
      ]
    },
    {
      "cell_type": "markdown",
      "source": [
        "## **Scrapping release Year**"
      ],
      "metadata": {
        "id": "VEg1U1uPzGoj"
      }
    },
    {
      "cell_type": "code",
      "source": [
        "# Write your code here\n",
        "\n",
        "# Define empty list for extraction\n",
        "release_year_list = []\n",
        "\n",
        "# for each url in url_list fetch_url_content\n",
        "for urls in url_list:\n",
        "    individual_movie_soup = fetch_url_content(urls)\n",
        "    release_year = individual_movie_soup.find('span', class_ = 'text-muted').text # data in span in class: text-muted\n",
        "    release_year = release_year.replace(\"(\",\"\") # removing '(' and ')' from text data\n",
        "    release_year = release_year.replace(\")\",\"\")\n",
        "\n",
        "    release_year_list.append(release_year) # appending the value in the empty list\n"
      ],
      "metadata": {
        "id": "LAUO4khXOkt1"
      },
      "execution_count": null,
      "outputs": []
    },
    {
      "cell_type": "code",
      "source": [
        "print(f\"Number of records :{len(release_year_list)}\")\n",
        "print(release_year_list)"
      ],
      "metadata": {
        "colab": {
          "base_uri": "https://localhost:8080/"
        },
        "id": "fEdeqj3QcMrv",
        "outputId": "470743df-f27b-425b-e506-731fde0fea92"
      },
      "execution_count": null,
      "outputs": [
        {
          "output_type": "stream",
          "name": "stdout",
          "text": [
            "Number of records :110\n",
            "[' 2024 ', ' 2024 ', ' 2024 ', ' 2024 ', ' 2019 ', ' 2024 ', ' 2024 ', ' 2024 ', ' 2015 ', ' 2023 ', ' 2019 ', ' 2024 ', ' 2024 ', ' 2024 ', ' 2024 ', ' 2024 ', ' 2024 ', ' 2024 ', ' 2024 ', ' 2024 ', ' 2011 ', ' 2024 ', ' 2024 ', ' 2024 ', ' 2023 ', ' 2020 ', ' 2024 ', ' 2024 ', ' 2024 ', ' 2024 ', ' 2024 ', ' 2015 ', ' 2024 ', ' 2024 ', ' 2024 ', ' 2024 ', ' 2023 ', ' 2024 ', ' 2023 ', ' 2024 ', ' 2024 ', ' 2023 ', ' 2024 ', ' 2023 ', ' 2018 ', ' 2023 ', ' 2014 ', ' 2021 ', ' 2024 ', ' 2024 ', ' 2023 ', ' 2018 ', ' 2024 ', ' 2024 ', ' 2024 ', ' 2023 ', ' 2024 ', ' 2018 ', ' 2023 ', ' 2024 ', ' 2024 ', ' 2024 ', ' 2022 ', ' 2024 ', ' 2024 ', ' 2018 ', ' 2001 ', ' 2024 ', ' 2021 ', ' 2024 ', ' 2024 ', ' 2024 ', ' 2021 ', ' 2013 ', ' 2024 ', ' 2024 ', ' 2022 ', ' 2018 ', ' 2022 ', ' 2024 ', ' 2022 ', ' 2018 ', ' 2021 ', ' 2023 ', ' 2009 ', ' 2024 ', ' 2014 ', ' 2024 ', ' 2023 ', ' 2024 ', ' 2024 ', ' 2023 ', ' 2023 ', ' 2024 ', ' 2024 ', ' 2023 ', ' 2024 ', ' 2017 ', ' 2019 ', ' 2024 ', ' 2024 ', ' 2024 ', ' 2024 ', ' 2024 ', ' 2019 ', ' 2024 ', ' 2024 ', ' 2024 ', ' 2024 ', ' 2024 ']\n"
          ]
        }
      ]
    },
    {
      "cell_type": "markdown",
      "source": [
        "## **Scrapping Genres**"
      ],
      "metadata": {
        "id": "aqzhL8STqaMX"
      }
    },
    {
      "cell_type": "code",
      "source": [
        "# Write Your Code here\n",
        "\n",
        "# Define empty list for extraction\n",
        "Genres_list = []\n",
        "\n",
        "# for each url in url_list fetch_url_content\n",
        "for urls in url_list:\n",
        "    individual_movie_soup = fetch_url_content(urls)\n",
        "    genres = individual_movie_soup.find('span', class_ = 'detail-infos__value').text # data in span in class: detail-infos__value\n",
        "    Genres_list.append(genres) # appending the value  in the empty list"
      ],
      "metadata": {
        "id": "NYGVsfKjrDWr"
      },
      "execution_count": null,
      "outputs": []
    },
    {
      "cell_type": "code",
      "source": [
        "print(f\"Number of records :{len(Genres_list)}\")\n",
        "print(Genres_list)"
      ],
      "metadata": {
        "colab": {
          "base_uri": "https://localhost:8080/"
        },
        "id": "7ietMY_QhDxo",
        "outputId": "ad4cd4d8-c343-4c6c-f800-7a0641494975"
      },
      "execution_count": null,
      "outputs": [
        {
          "output_type": "stream",
          "name": "stdout",
          "text": [
            "110\n",
            "['Science-Fiction, Drama, Action & Adventure, Fantasy, Mystery & Thriller', 'Comedy, Horror', 'Comedy, Action & Adventure', 'Action & Adventure, Drama, Mystery & Thriller', 'Crime, Action & Adventure, Mystery & Thriller', 'Action & Adventure, Drama, Comedy, Romance', 'Comedy, Drama, Romance, Action & Adventure', 'Science-Fiction, Mystery & Thriller, Action & Adventure', 'Animation, Fantasy, Comedy, Drama, Kids & Family', 'Horror, Action & Adventure, Drama, Science-Fiction', 'Drama, Action & Adventure', 'Fantasy, Science-Fiction, Mystery & Thriller, Action & Adventure', 'Drama, Mystery & Thriller', 'Action & Adventure, Mystery & Thriller, War & Military, Drama', 'Action & Adventure, Crime, Drama, Mystery & Thriller', 'Comedy, Drama', 'Crime, Comedy, Romance', 'Drama', 'Horror, Comedy', 'Action & Adventure, Crime, Mystery & Thriller', 'Drama, Music & Musical, Romance', 'Action & Adventure, Science-Fiction, Drama', 'Drama, History, Crime, Mystery & Thriller', 'Action & Adventure, Science-Fiction, Drama, Mystery & Thriller', 'Drama, History', 'Drama, Romance, Made in Europe', 'Comedy, Drama', 'Kids & Family, Action & Adventure, Comedy, Drama, Animation, Fantasy', 'Drama', 'Comedy', 'Sport, Drama, History', 'Action & Adventure, Science-Fiction, Mystery & Thriller', 'Horror, Mystery & Thriller', 'Fantasy, Animation, Action & Adventure, Comedy, Kids & Family', 'Romance, Comedy', 'Crime, Drama, Mystery & Thriller', 'Drama, Action & Adventure, Crime, Mystery & Thriller', 'Drama, Romance, Comedy', 'Drama', 'Science-Fiction, Fantasy, Action & Adventure, Comedy', 'Romance, Drama, Sport, Comedy', 'Mystery & Thriller, Action & Adventure, Crime, Drama', 'Drama', 'Drama, Horror, Mystery & Thriller', 'Horror, Mystery & Thriller, Drama', 'Mystery & Thriller, Drama', 'Drama, Mystery & Thriller, Romance', 'Science-Fiction, Action & Adventure, Drama', 'Action & Adventure, Science-Fiction, Mystery & Thriller', 'Drama, Comedy', 'Action & Adventure, Comedy', 'Science-Fiction, Horror, Drama', 'Drama, Mystery & Thriller, Romance', 'History, Sport, War & Military, Action & Adventure, Drama', 'Drama, History, Action & Adventure, Crime', 'Drama, War & Military, History', 'Comedy, Drama', 'Romance, Drama', 'Romance, Comedy', 'Mystery & Thriller, Drama, Horror, Science-Fiction', 'Science-Fiction, Music & Musical, Mystery & Thriller', 'Action & Adventure, Crime, Mystery & Thriller', 'Romance, Drama', 'Comedy, Action & Adventure, Romance', 'Comedy, Romance, Drama', 'Crime, Mystery & Thriller, Action & Adventure, Drama', 'Fantasy, Action & Adventure, Kids & Family', 'Drama', 'Drama, Mystery & Thriller, Action & Adventure, Crime', 'Action & Adventure, Mystery & Thriller, Crime', 'Horror, Mystery & Thriller', 'Romance, Drama', 'Action & Adventure, Science-Fiction, Fantasy', 'Drama, Comedy, Crime', 'Comedy, Drama, Romance', 'Mystery & Thriller, Horror, Drama', 'Comedy, Drama, History', 'Horror, Mystery & Thriller, Drama, Fantasy, Made in Europe', 'Comedy, Drama', 'Comedy, Fantasy, Kids & Family, Drama, Animation', 'Action & Adventure, Comedy, Drama', 'Horror, Comedy, Drama', 'Mystery & Thriller, Drama, Horror, Science-Fiction', 'Action & Adventure, Fantasy, Science-Fiction', 'Horror, Mystery & Thriller, Fantasy, Science-Fiction, Made in Europe', 'Drama, Romance, Sport', 'Science-Fiction, Action & Adventure', 'Drama, Romance, Science-Fiction, Comedy', 'Crime, Mystery & Thriller, Action & Adventure, Comedy', 'Drama, Action & Adventure, Comedy', 'Horror, Romance', 'Drama', 'Mystery & Thriller, Action & Adventure, Drama, Crime', 'Horror', 'Drama, Mystery & Thriller, Action & Adventure, Crime', 'Comedy, Drama', 'Fantasy, Comedy, Science-Fiction', 'Action & Adventure, Drama, History', 'Action & Adventure, Comedy, Mystery & Thriller', 'Drama, Horror, Mystery & Thriller', 'Science-Fiction, Drama, Action & Adventure, Fantasy, Mystery & Thriller', 'Comedy, Horror', 'Comedy, Action & Adventure', 'Action & Adventure, Drama, Mystery & Thriller', 'Crime, Action & Adventure, Mystery & Thriller', 'Comedy, Romance, Music & Musical', 'Documentary', 'Reality TV, Sport, Action & Adventure', 'Documentary', 'Documentary, Music & Musical']\n"
          ]
        }
      ]
    },
    {
      "cell_type": "markdown",
      "source": [
        "## **Scrapping IMBD Rating**"
      ],
      "metadata": {
        "id": "UOof6-0xFuf6"
      }
    },
    {
      "cell_type": "code",
      "source": [
        "# Write Your Code here\n",
        "\n",
        "# Define empty list for extraction\n",
        "IMBD_rating_list = []\n",
        "\n",
        "# for each url in url_list fetch_url_content\n",
        "for urls in url_list:\n",
        "    individual_movie_soup = fetch_url_content(urls)\n",
        "\n",
        "# using try - except if IMDB ratings are not available\n",
        "    try:\n",
        "       Imdb = individual_movie_soup.find_all(\"div\",class_=\"jw-scoring-listing__rating\")[1].span # data in div in class: jw-scoring-listing__rating, inside span\n",
        "       Imdb1= Imdb.text[1:4] # extracting rating only\n",
        "    except Exception as e:\n",
        "      # print(err)\n",
        "      Imdb1 = \"NA\" # if no IMDB rating append \"NA\"\n",
        "    IMBD_rating_list.append(Imdb1)\n"
      ],
      "metadata": {
        "id": "gW467MLx6aCH"
      },
      "execution_count": null,
      "outputs": []
    },
    {
      "cell_type": "code",
      "source": [
        "print(f\"Number of records :{len(IMBD_rating_list)}\")\n",
        "print(IMBD_rating_list)"
      ],
      "metadata": {
        "colab": {
          "base_uri": "https://localhost:8080/"
        },
        "id": "CCPjD5RSkwiX",
        "outputId": "495c6eb1-bbdd-45c0-a70e-c92a58e8545c"
      },
      "execution_count": null,
      "outputs": [
        {
          "output_type": "stream",
          "name": "stdout",
          "text": [
            "Number of records :110\n",
            "['7.7', '7.2', '7.9', '8.7', '6.9', '5.3', '7.0', '7.7', '8.1', '7.7', '7.2', '6.1', '8.3', '7.1', 'NA', '8.5', '6.9', '7.5', '5.2', '7.2', '7.7', '8.6', '6.5', '7.1', '8.3', '3.3', '5.9', '7.9', '4.6', '6.7', '8.1', '8.1', '6.9', '6.3', '7.9', '6.8', '6.2', '6.4', '8.9', '7.8', '7.3', '6.5', '8.6', '6.2', '7.3', '7.8', '5.0', '8.0', '4.1', '7.1', '5.5', '7.5', '6.4', '8.3', '5.0', '7.7', '6.9', '7.7', '6.1', '6.7', '7.8', '4.6', '8.1', '6.7', '5.4', '8.2', '7.6', '7.8', '7.6', 'NA', '6.6', '7.5', '8.2', '8.2', '6.7', '6.6', '7.1', '8.2', '6.9', '6.5', '8.7', '7.5', '7.2', '5.6', '6.9', '6.5', '7.9', '6.3', '6.5', '5.8', '4.5', '7.9', '7.0', '7.0', '6.1', '7.9', '6.1', '7.9', '6.5', '7.9', '7.7', '7.2', '7.9', '8.7', '6.9', 'NA', 'NA', 'NA', 'NA', 'NA']\n"
          ]
        }
      ]
    },
    {
      "cell_type": "markdown",
      "source": [
        "## **Scrapping Runtime/Duration**"
      ],
      "metadata": {
        "id": "8CHiu0A5RAuM"
      }
    },
    {
      "cell_type": "code",
      "source": [
        "# Write Your Code here\n",
        "\n",
        "# Define empty list for extraction\n",
        "runtime_list = []\n",
        "\n",
        "# for each url in url_list fetch_url_content\n",
        "for urls in url_list:\n",
        "    individual_movie_soup = fetch_url_content(urls)\n",
        "\n",
        "    # using try - except if runtime not available\n",
        "    try:\n",
        "      Runtime_indi = individual_movie_soup.find('h3', class_='detail-infos__subheading', string='Runtime').find_next_sibling('div', class_='detail-infos__value').text.strip()\n",
        "    except Exception as e:\n",
        "      Runtime_indi ='NA' # if no runtime append \"NA\"\n",
        "\n",
        "    runtime_list.append(Runtime_indi)\n"
      ],
      "metadata": {
        "id": "si_yaGO8OTBo"
      },
      "execution_count": null,
      "outputs": []
    },
    {
      "cell_type": "code",
      "source": [
        "print(f\"Number of records :{len(runtime_list)}\")\n",
        "print(runtime_list)"
      ],
      "metadata": {
        "colab": {
          "base_uri": "https://localhost:8080/"
        },
        "id": "ar23LO5eQJX0",
        "outputId": "2c70b523-d3f7-49c5-c240-f26447f17c8b"
      },
      "execution_count": null,
      "outputs": [
        {
          "output_type": "stream",
          "name": "stdout",
          "text": [
            "Number of records :110\n",
            "['3h 1min', '2h 3min', '2h 38min', '2h 30min', '1h 50min', '2h 39min', '2h 6min', '2h 28min', '1h 35min', '2h 5min', '2h 56min', '1h 55min', '2h 15min', '1h 49min', '1h 45min', '2h 2min', '1h 56min', '2h 14min', '2h 28min', '2h 13min', '2h 39min', '2h 47min', '2h 12min', '2h 25min', '3h 0min', '1h 54min', '1h 58min', '1h 37min', '2h 12min', '2h 12min', '3h 1min', '2h 1min', '2h 14min', '1h 34min', '2h 36min', '2h 12min', '3h 21min', '2h 20min', '2h 26min', '2h 39min', '2h 12min', '2h 55min', '2h 52min', '2h 9min', '2h 8min', '2h 6min', '1h 45min', '2h 35min', '2h 44min', '2h 23min', '1h 48min', '1h 31min', '2h 26min', '2h 22min', '2h 23min', '2h 30min', '2h 10min', '2h 19min', '1h 44min', '1h 39min', '2h 16min', '1h 46min', '2h 52min', '1h 51min', '1h 54min', '2h 36min', '2h 32min', '1h 59min', '2h 59min', '2h 1min', '1h 49min', '2h 28min', '2h 28min', '3h 0min', '2h 46min', '2h 12min', '3h 9min', '1h 53min', '1h 36min', '1h 44min', '2h 46min', '2h 8min', '1h 37min', '2h 4min', '1h 38min', '2h 19min', '1h 53min', '2h 21min', '1h 58min', '2h 40min', '2h 8min', '2h 4min', '2h 49min', '1h 33min', '2h 16min', '2h 13min', '1h 56min', '2h 18min', '2h 17min', '2h 19min', '3h 1min', '2h 3min', '2h 38min', '2h 30min', '1h 50min', 'NA', '1h 40min', '1h 0min', '1h 45min', '1h 17min']\n"
          ]
        }
      ]
    },
    {
      "cell_type": "markdown",
      "source": [
        "## **Scrapping Age Rating**"
      ],
      "metadata": {
        "id": "edb4gsNcRJQN"
      }
    },
    {
      "cell_type": "code",
      "source": [
        "# Write Your Code here\n",
        "\n",
        "# Define empty list for extraction\n",
        "age_rating_list = []\n",
        "\n",
        "# for each url in url_list fetch_url_content\n",
        "for urls in url_list:\n",
        "    individual_movie_soup = fetch_url_content(urls)\n",
        "\n",
        "    # using try - except if age rating not available handle exception\n",
        "    try:\n",
        "      age_rating = individual_movie_soup.find('h3', class_='detail-infos__subheading', string='Age rating').find_next_sibling('div', class_='detail-infos__value').text.strip()\n",
        "    except Exception as e:\n",
        "      age_rating ='NA'  # if no age rating append \"NA\"\n",
        "    age_rating_list.append(age_rating)\n",
        "\n"
      ],
      "metadata": {
        "id": "ZsHskhOcNAUj"
      },
      "execution_count": null,
      "outputs": []
    },
    {
      "cell_type": "code",
      "source": [
        "print(f\"Number of records :{len(age_rating_list)}\")\n",
        "print(age_rating_list)"
      ],
      "metadata": {
        "colab": {
          "base_uri": "https://localhost:8080/"
        },
        "id": "5YEok0CzVT5N",
        "outputId": "59e6164a-ae8e-4c1e-e9ee-64f5698bda9d"
      },
      "execution_count": null,
      "outputs": [
        {
          "output_type": "stream",
          "name": "stdout",
          "text": [
            "Number of records :110\n",
            "['UA', 'NA', 'NA', 'NA', 'NA', 'NA', 'UA', 'A', 'U', 'NA', 'UA', 'UA', 'UA', 'NA', 'A', 'UA', 'A', 'U', 'NA', 'UA', 'UA', 'NA', 'NA', 'NA', 'UA', 'NA', 'UA', 'U', 'NA', 'NA', 'NA', 'A', 'UA', 'U', 'U', 'UA', 'A', 'UA', 'NA', 'UA', 'A', 'A', 'UA', 'A', 'A', 'NA', 'NA', 'UA', 'UA', 'UA', 'A', 'A', 'UA', 'UA', 'UA', 'UA', 'U', 'UA', 'A', 'NA', 'UA', 'A', 'U', 'NA', 'NA', 'UA', 'U', 'NA', 'UA', 'NA', 'A', 'A', 'UA', 'A', 'NA', 'UA', 'A', 'A', 'NA', 'U', 'UA', 'UA', 'A', 'NA', 'A', 'NA', 'NA', 'NA', 'A', 'NA', 'NA', 'NA', 'UA', 'NA', 'UA', 'A', 'NA', 'UA', 'A', 'UA', 'UA', 'NA', 'NA', 'NA', 'NA', 'NA', 'NA', 'NA', 'NA', 'NA']\n"
          ]
        }
      ]
    },
    {
      "cell_type": "markdown",
      "source": [
        "## **Fetching Production Countries Details**"
      ],
      "metadata": {
        "id": "_RI5FD3CqFVV"
      }
    },
    {
      "cell_type": "code",
      "source": [
        "# Write Your Code here\n",
        "# Define empty list for extraction\n",
        "production_country_list  = []\n",
        "\n",
        "# for each url in url_list fetch_url_content\n",
        "for urls in url_list:\n",
        "    individual_movie_soup = fetch_url_content(urls)\n",
        "\n",
        "    # using try - except if country not available handle exception\n",
        "    try:\n",
        "      country_fetch = individual_movie_soup.find('h3', class_='detail-infos__subheading', string=' Production country ').find_next_sibling('div', class_='detail-infos__value').text.strip()\n",
        "    except Exception as e:\n",
        "      country_fetch ='NA'  # if no country append \"NA\"\n",
        "    production_country_list.append(country_fetch)\n",
        "\n"
      ],
      "metadata": {
        "id": "ai6YOgZmYIcc"
      },
      "execution_count": null,
      "outputs": []
    },
    {
      "cell_type": "code",
      "source": [
        "print(f\"Number of records :{len(production_country_list)}\")\n",
        "print(production_country_list)"
      ],
      "metadata": {
        "colab": {
          "base_uri": "https://localhost:8080/"
        },
        "id": "E4aBJ-rcWnVa",
        "outputId": "d74377bd-d252-4f79-e995-d16f194c1ff3"
      },
      "execution_count": null,
      "outputs": [
        {
          "output_type": "stream",
          "name": "stdout",
          "text": [
            "Number of records :110\n",
            "['India', 'India', 'India', 'India', 'South Korea', 'India', 'Australia, Canada, United States', 'Australia, United States', 'United States', 'Japan', 'India', 'United States, Australia', 'India', 'United Kingdom, United States', 'India', 'India', 'United States', 'India', 'India', 'India', 'India', 'United States', 'India', 'United States', 'United States, United Kingdom', 'Poland', 'India', 'United States', 'India', 'India', 'India', 'Australia, United States', 'South Korea', 'United States', 'India', 'India', 'India', 'India', 'India', 'India', 'Italy, United States', 'India', 'India, United States', 'Philippines', 'United States', 'Japan', 'United States', 'United States', 'India', 'India', 'United States, United Kingdom', 'United States', 'India', 'India', 'India', 'India', 'India', 'India', 'United States', 'United States, United Kingdom, Canada', 'India', 'United States', 'India', 'India', 'United States', 'India', 'United Kingdom, United States', 'India', 'India', 'United States, Canada, Singapore', 'United States', 'India', 'United States', 'United States', 'India', 'India', 'United States', 'India, Sweden', 'United States', 'United States', 'India', 'India', 'United States', 'United States', 'United Kingdom, Australia', 'India', 'United States', 'India', 'United States', 'India', 'India', 'Germany, Japan', 'India', 'Australia, United Arab Emirates, United States', 'India', 'United States', 'United States', 'South Korea', 'United States', 'India', 'India', 'India', 'India', 'India', 'South Korea', 'United States', 'United States', 'United States', 'United States', 'Chile']\n"
          ]
        }
      ]
    },
    {
      "cell_type": "markdown",
      "source": [
        "## **Fetching Streaming Service Details**"
      ],
      "metadata": {
        "id": "IrJlIsBWrO2r"
      }
    },
    {
      "cell_type": "code",
      "source": [
        "# Write Your Code here\n",
        "# Define empty list for extraction\n",
        "streaming_service_list  = []\n",
        "\n",
        "# for each url in url_list fetch_url_content\n",
        "for urls in url_list:\n",
        "    individual_movie_soup = fetch_url_content(urls)\n",
        "\n",
        "    # using try - except if streaming service not available handle exception\n",
        "    try:\n",
        "      # find div, class buybox-row__offers. Inside this findall image with class offer__icon\n",
        "      Stream_provider = individual_movie_soup.find(\"div\",class_='buybox-row__offers').find_all(\"img\",class_='offer__icon')\n",
        "      alt_values = [img['alt'] for img in Stream_provider] # get index [alt] from img dict , inside Stream_provider list\n",
        "      alt_values = \",\".join(alt_values) # if more then 1 streaming service join with \",\"\n",
        "\n",
        "    except AttributeError as err: # if no streaming service append \"NA\"\n",
        "      alt_values = 'NA'\n",
        "    streaming_service_list.append(alt_values)\n"
      ],
      "metadata": {
        "id": "Yk72jDLZu7EZ"
      },
      "execution_count": null,
      "outputs": []
    },
    {
      "cell_type": "code",
      "source": [
        "print(f\"Number of records :{len(streaming_service_list)}\")\n",
        "print(streaming_service_list)"
      ],
      "metadata": {
        "colab": {
          "base_uri": "https://localhost:8080/"
        },
        "id": "FeHEbn8Dc3Q0",
        "outputId": "5171bf7a-e480-4dad-ef98-ef1b3f669827"
      },
      "execution_count": null,
      "outputs": [
        {
          "output_type": "stream",
          "name": "stdout",
          "text": [
            "Number of records :110\n",
            "['Bookmyshow', 'Bookmyshow', 'Amazon Prime Video', 'Netflix', 'Lionsgate Play', 'Amazon Prime Video', 'Apple TV', 'Apple TV', 'Apple TV', 'Netflix', 'Amazon Prime Video', 'Apple TV', 'Hotstar', 'Amazon Prime Video', 'NA', 'Netflix', 'Netflix', 'Netflix', 'Hotstar', 'Amazon Prime Video', 'Apple TV', 'Apple TV', 'Netflix', 'Apple TV', 'Apple TV', 'Netflix', 'Netflix', 'Bookmyshow', 'NA', 'Hotstar', 'Amazon Prime Video', 'Amazon Prime Video', 'NA', 'Apple TV', 'Hotstar,aha', 'Amazon Prime Video', 'Netflix', 'Hotstar', 'Hotstar', 'Hotstar,Jio Cinema,Zee5', 'Apple TV', 'Netflix,Hotstar', 'NA', 'Netflix', 'Amazon Prime Video', 'Amazon Prime Video', 'Amazon Prime Video', 'Apple TV', 'Netflix', 'Amazon Prime Video', 'Amazon Prime Video', 'Amazon Prime Video', 'Amazon Prime Video', 'Bookmyshow', 'Netflix,Jio Cinema', 'Zee5', 'Amazon Prime Video', 'Zee5', 'Apple TV', 'NA', 'Amazon Prime Video', 'Netflix', 'Hotstar', 'Netflix', 'Netflix', 'Hotstar', 'Apple TV', 'Amazon Prime Video', 'Amazon Prime Video', 'NA', 'Apple TV', 'aha', 'Apple TV', 'Lionsgate Play,Lionsgate Play Apple TV Channel,Lionsgate Play Amazon Channel', 'Sony Liv', 'Netflix', 'Apple TV', 'NA', 'NA', 'Apple TV', 'Amazon Prime Video', 'Apple TV', 'Apple TV', 'Apple TV', 'NA', 'Bookmyshow', 'Apple TV', 'Amazon Prime Video', 'Netflix', 'Sony Liv', 'Amazon Prime Video', 'MUBI,MUBI Amazon Channel', 'Apple TV', 'NA', 'Netflix', 'Apple TV', 'Apple TV', 'Amazon Prime Video', 'Amazon Prime Video', 'Sony Liv', 'NA', 'Bookmyshow', 'Amazon Prime Video', 'Netflix', 'Lionsgate Play', 'NA', 'NA', 'NA', 'NA', 'NA']\n"
          ]
        }
      ]
    },
    {
      "cell_type": "markdown",
      "source": [
        "## **Now Creating Movies DataFrame**"
      ],
      "metadata": {
        "id": "Mnh22VX_7f6K"
      }
    },
    {
      "cell_type": "code",
      "source": [
        "# Write Your Code here\n",
        "# created a dictionary with variable name as keys and extracted content lists as values\n",
        "dict1 ={\"Title\":Titles,\"Release Year\":release_year_list,\"Genre\":Genres_list,\"Imdb Rating\":IMBD_rating_list,\"Runtime\":runtime_list,\n",
        "        \"Age Rating\":age_rating_list,\"Country origin\":production_country_list\n",
        "        ,\"Streaming Provider\":streaming_service_list,\"Url\":url_list,\"Type\" : 'Movie'}\n",
        "\n",
        "# define a dataframe with the dictionary\n",
        "Movies_df = pd.DataFrame(dict1)\n",
        "\n",
        "Movies_df.head()"
      ],
      "metadata": {
        "id": "i7XQUICP5oBI",
        "colab": {
          "base_uri": "https://localhost:8080/",
          "height": 293
        },
        "outputId": "76860931-4620-41a2-9a06-df0a1671e5e8"
      },
      "execution_count": null,
      "outputs": [
        {
          "output_type": "execute_result",
          "data": {
            "text/plain": [
              "                                Title Release Year  \\\n",
              "0                      Kalki 2898 AD         2024    \n",
              "1                             Munjya         2024    \n",
              "2                           Aavesham         2024    \n",
              "3                           Maharaja         2024    \n",
              "4   The Gangster, the Cop, the Devil         2019    \n",
              "\n",
              "                                               Genre Imdb Rating   Runtime  \\\n",
              "0  Science-Fiction, Drama, Action & Adventure, Fa...         7.7   3h 1min   \n",
              "1                                     Comedy, Horror         7.2   2h 3min   \n",
              "2                         Comedy, Action & Adventure         7.9  2h 38min   \n",
              "3      Action & Adventure, Drama, Mystery & Thriller         8.7  2h 30min   \n",
              "4      Crime, Action & Adventure, Mystery & Thriller         6.9  1h 50min   \n",
              "\n",
              "  Age Rating Country origin  Streaming Provider  \\\n",
              "0         UA          India          Bookmyshow   \n",
              "1         NA          India          Bookmyshow   \n",
              "2         NA          India  Amazon Prime Video   \n",
              "3         NA          India             Netflix   \n",
              "4         NA    South Korea      Lionsgate Play   \n",
              "\n",
              "                                                 Url   Type  \n",
              "0       https://www.justwatch.com/in/movie/project-k  Movie  \n",
              "1          https://www.justwatch.com/in/movie/munjha  Movie  \n",
              "2   https://www.justwatch.com/in/movie/aavesham-2024  Movie  \n",
              "3   https://www.justwatch.com/in/movie/maharaja-2024  Movie  \n",
              "4  https://www.justwatch.com/in/movie/the-gangste...  Movie  "
            ],
            "text/html": [
              "\n",
              "  <div id=\"df-a4dc81ce-bd43-48fa-aee1-14bffa5d8826\" class=\"colab-df-container\">\n",
              "    <div>\n",
              "<style scoped>\n",
              "    .dataframe tbody tr th:only-of-type {\n",
              "        vertical-align: middle;\n",
              "    }\n",
              "\n",
              "    .dataframe tbody tr th {\n",
              "        vertical-align: top;\n",
              "    }\n",
              "\n",
              "    .dataframe thead th {\n",
              "        text-align: right;\n",
              "    }\n",
              "</style>\n",
              "<table border=\"1\" class=\"dataframe\">\n",
              "  <thead>\n",
              "    <tr style=\"text-align: right;\">\n",
              "      <th></th>\n",
              "      <th>Title</th>\n",
              "      <th>Release Year</th>\n",
              "      <th>Genre</th>\n",
              "      <th>Imdb Rating</th>\n",
              "      <th>Runtime</th>\n",
              "      <th>Age Rating</th>\n",
              "      <th>Country origin</th>\n",
              "      <th>Streaming Provider</th>\n",
              "      <th>Url</th>\n",
              "      <th>Type</th>\n",
              "    </tr>\n",
              "  </thead>\n",
              "  <tbody>\n",
              "    <tr>\n",
              "      <th>0</th>\n",
              "      <td>Kalki 2898 AD</td>\n",
              "      <td>2024</td>\n",
              "      <td>Science-Fiction, Drama, Action &amp; Adventure, Fa...</td>\n",
              "      <td>7.7</td>\n",
              "      <td>3h 1min</td>\n",
              "      <td>UA</td>\n",
              "      <td>India</td>\n",
              "      <td>Bookmyshow</td>\n",
              "      <td>https://www.justwatch.com/in/movie/project-k</td>\n",
              "      <td>Movie</td>\n",
              "    </tr>\n",
              "    <tr>\n",
              "      <th>1</th>\n",
              "      <td>Munjya</td>\n",
              "      <td>2024</td>\n",
              "      <td>Comedy, Horror</td>\n",
              "      <td>7.2</td>\n",
              "      <td>2h 3min</td>\n",
              "      <td>NA</td>\n",
              "      <td>India</td>\n",
              "      <td>Bookmyshow</td>\n",
              "      <td>https://www.justwatch.com/in/movie/munjha</td>\n",
              "      <td>Movie</td>\n",
              "    </tr>\n",
              "    <tr>\n",
              "      <th>2</th>\n",
              "      <td>Aavesham</td>\n",
              "      <td>2024</td>\n",
              "      <td>Comedy, Action &amp; Adventure</td>\n",
              "      <td>7.9</td>\n",
              "      <td>2h 38min</td>\n",
              "      <td>NA</td>\n",
              "      <td>India</td>\n",
              "      <td>Amazon Prime Video</td>\n",
              "      <td>https://www.justwatch.com/in/movie/aavesham-2024</td>\n",
              "      <td>Movie</td>\n",
              "    </tr>\n",
              "    <tr>\n",
              "      <th>3</th>\n",
              "      <td>Maharaja</td>\n",
              "      <td>2024</td>\n",
              "      <td>Action &amp; Adventure, Drama, Mystery &amp; Thriller</td>\n",
              "      <td>8.7</td>\n",
              "      <td>2h 30min</td>\n",
              "      <td>NA</td>\n",
              "      <td>India</td>\n",
              "      <td>Netflix</td>\n",
              "      <td>https://www.justwatch.com/in/movie/maharaja-2024</td>\n",
              "      <td>Movie</td>\n",
              "    </tr>\n",
              "    <tr>\n",
              "      <th>4</th>\n",
              "      <td>The Gangster, the Cop, the Devil</td>\n",
              "      <td>2019</td>\n",
              "      <td>Crime, Action &amp; Adventure, Mystery &amp; Thriller</td>\n",
              "      <td>6.9</td>\n",
              "      <td>1h 50min</td>\n",
              "      <td>NA</td>\n",
              "      <td>South Korea</td>\n",
              "      <td>Lionsgate Play</td>\n",
              "      <td>https://www.justwatch.com/in/movie/the-gangste...</td>\n",
              "      <td>Movie</td>\n",
              "    </tr>\n",
              "  </tbody>\n",
              "</table>\n",
              "</div>\n",
              "    <div class=\"colab-df-buttons\">\n",
              "\n",
              "  <div class=\"colab-df-container\">\n",
              "    <button class=\"colab-df-convert\" onclick=\"convertToInteractive('df-a4dc81ce-bd43-48fa-aee1-14bffa5d8826')\"\n",
              "            title=\"Convert this dataframe to an interactive table.\"\n",
              "            style=\"display:none;\">\n",
              "\n",
              "  <svg xmlns=\"http://www.w3.org/2000/svg\" height=\"24px\" viewBox=\"0 -960 960 960\">\n",
              "    <path d=\"M120-120v-720h720v720H120Zm60-500h600v-160H180v160Zm220 220h160v-160H400v160Zm0 220h160v-160H400v160ZM180-400h160v-160H180v160Zm440 0h160v-160H620v160ZM180-180h160v-160H180v160Zm440 0h160v-160H620v160Z\"/>\n",
              "  </svg>\n",
              "    </button>\n",
              "\n",
              "  <style>\n",
              "    .colab-df-container {\n",
              "      display:flex;\n",
              "      gap: 12px;\n",
              "    }\n",
              "\n",
              "    .colab-df-convert {\n",
              "      background-color: #E8F0FE;\n",
              "      border: none;\n",
              "      border-radius: 50%;\n",
              "      cursor: pointer;\n",
              "      display: none;\n",
              "      fill: #1967D2;\n",
              "      height: 32px;\n",
              "      padding: 0 0 0 0;\n",
              "      width: 32px;\n",
              "    }\n",
              "\n",
              "    .colab-df-convert:hover {\n",
              "      background-color: #E2EBFA;\n",
              "      box-shadow: 0px 1px 2px rgba(60, 64, 67, 0.3), 0px 1px 3px 1px rgba(60, 64, 67, 0.15);\n",
              "      fill: #174EA6;\n",
              "    }\n",
              "\n",
              "    .colab-df-buttons div {\n",
              "      margin-bottom: 4px;\n",
              "    }\n",
              "\n",
              "    [theme=dark] .colab-df-convert {\n",
              "      background-color: #3B4455;\n",
              "      fill: #D2E3FC;\n",
              "    }\n",
              "\n",
              "    [theme=dark] .colab-df-convert:hover {\n",
              "      background-color: #434B5C;\n",
              "      box-shadow: 0px 1px 3px 1px rgba(0, 0, 0, 0.15);\n",
              "      filter: drop-shadow(0px 1px 2px rgba(0, 0, 0, 0.3));\n",
              "      fill: #FFFFFF;\n",
              "    }\n",
              "  </style>\n",
              "\n",
              "    <script>\n",
              "      const buttonEl =\n",
              "        document.querySelector('#df-a4dc81ce-bd43-48fa-aee1-14bffa5d8826 button.colab-df-convert');\n",
              "      buttonEl.style.display =\n",
              "        google.colab.kernel.accessAllowed ? 'block' : 'none';\n",
              "\n",
              "      async function convertToInteractive(key) {\n",
              "        const element = document.querySelector('#df-a4dc81ce-bd43-48fa-aee1-14bffa5d8826');\n",
              "        const dataTable =\n",
              "          await google.colab.kernel.invokeFunction('convertToInteractive',\n",
              "                                                    [key], {});\n",
              "        if (!dataTable) return;\n",
              "\n",
              "        const docLinkHtml = 'Like what you see? Visit the ' +\n",
              "          '<a target=\"_blank\" href=https://colab.research.google.com/notebooks/data_table.ipynb>data table notebook</a>'\n",
              "          + ' to learn more about interactive tables.';\n",
              "        element.innerHTML = '';\n",
              "        dataTable['output_type'] = 'display_data';\n",
              "        await google.colab.output.renderOutput(dataTable, element);\n",
              "        const docLink = document.createElement('div');\n",
              "        docLink.innerHTML = docLinkHtml;\n",
              "        element.appendChild(docLink);\n",
              "      }\n",
              "    </script>\n",
              "  </div>\n",
              "\n",
              "\n",
              "<div id=\"df-2f189ffd-4a3b-4d98-b72a-d33f979d23f7\">\n",
              "  <button class=\"colab-df-quickchart\" onclick=\"quickchart('df-2f189ffd-4a3b-4d98-b72a-d33f979d23f7')\"\n",
              "            title=\"Suggest charts\"\n",
              "            style=\"display:none;\">\n",
              "\n",
              "<svg xmlns=\"http://www.w3.org/2000/svg\" height=\"24px\"viewBox=\"0 0 24 24\"\n",
              "     width=\"24px\">\n",
              "    <g>\n",
              "        <path d=\"M19 3H5c-1.1 0-2 .9-2 2v14c0 1.1.9 2 2 2h14c1.1 0 2-.9 2-2V5c0-1.1-.9-2-2-2zM9 17H7v-7h2v7zm4 0h-2V7h2v10zm4 0h-2v-4h2v4z\"/>\n",
              "    </g>\n",
              "</svg>\n",
              "  </button>\n",
              "\n",
              "<style>\n",
              "  .colab-df-quickchart {\n",
              "      --bg-color: #E8F0FE;\n",
              "      --fill-color: #1967D2;\n",
              "      --hover-bg-color: #E2EBFA;\n",
              "      --hover-fill-color: #174EA6;\n",
              "      --disabled-fill-color: #AAA;\n",
              "      --disabled-bg-color: #DDD;\n",
              "  }\n",
              "\n",
              "  [theme=dark] .colab-df-quickchart {\n",
              "      --bg-color: #3B4455;\n",
              "      --fill-color: #D2E3FC;\n",
              "      --hover-bg-color: #434B5C;\n",
              "      --hover-fill-color: #FFFFFF;\n",
              "      --disabled-bg-color: #3B4455;\n",
              "      --disabled-fill-color: #666;\n",
              "  }\n",
              "\n",
              "  .colab-df-quickchart {\n",
              "    background-color: var(--bg-color);\n",
              "    border: none;\n",
              "    border-radius: 50%;\n",
              "    cursor: pointer;\n",
              "    display: none;\n",
              "    fill: var(--fill-color);\n",
              "    height: 32px;\n",
              "    padding: 0;\n",
              "    width: 32px;\n",
              "  }\n",
              "\n",
              "  .colab-df-quickchart:hover {\n",
              "    background-color: var(--hover-bg-color);\n",
              "    box-shadow: 0 1px 2px rgba(60, 64, 67, 0.3), 0 1px 3px 1px rgba(60, 64, 67, 0.15);\n",
              "    fill: var(--button-hover-fill-color);\n",
              "  }\n",
              "\n",
              "  .colab-df-quickchart-complete:disabled,\n",
              "  .colab-df-quickchart-complete:disabled:hover {\n",
              "    background-color: var(--disabled-bg-color);\n",
              "    fill: var(--disabled-fill-color);\n",
              "    box-shadow: none;\n",
              "  }\n",
              "\n",
              "  .colab-df-spinner {\n",
              "    border: 2px solid var(--fill-color);\n",
              "    border-color: transparent;\n",
              "    border-bottom-color: var(--fill-color);\n",
              "    animation:\n",
              "      spin 1s steps(1) infinite;\n",
              "  }\n",
              "\n",
              "  @keyframes spin {\n",
              "    0% {\n",
              "      border-color: transparent;\n",
              "      border-bottom-color: var(--fill-color);\n",
              "      border-left-color: var(--fill-color);\n",
              "    }\n",
              "    20% {\n",
              "      border-color: transparent;\n",
              "      border-left-color: var(--fill-color);\n",
              "      border-top-color: var(--fill-color);\n",
              "    }\n",
              "    30% {\n",
              "      border-color: transparent;\n",
              "      border-left-color: var(--fill-color);\n",
              "      border-top-color: var(--fill-color);\n",
              "      border-right-color: var(--fill-color);\n",
              "    }\n",
              "    40% {\n",
              "      border-color: transparent;\n",
              "      border-right-color: var(--fill-color);\n",
              "      border-top-color: var(--fill-color);\n",
              "    }\n",
              "    60% {\n",
              "      border-color: transparent;\n",
              "      border-right-color: var(--fill-color);\n",
              "    }\n",
              "    80% {\n",
              "      border-color: transparent;\n",
              "      border-right-color: var(--fill-color);\n",
              "      border-bottom-color: var(--fill-color);\n",
              "    }\n",
              "    90% {\n",
              "      border-color: transparent;\n",
              "      border-bottom-color: var(--fill-color);\n",
              "    }\n",
              "  }\n",
              "</style>\n",
              "\n",
              "  <script>\n",
              "    async function quickchart(key) {\n",
              "      const quickchartButtonEl =\n",
              "        document.querySelector('#' + key + ' button');\n",
              "      quickchartButtonEl.disabled = true;  // To prevent multiple clicks.\n",
              "      quickchartButtonEl.classList.add('colab-df-spinner');\n",
              "      try {\n",
              "        const charts = await google.colab.kernel.invokeFunction(\n",
              "            'suggestCharts', [key], {});\n",
              "      } catch (error) {\n",
              "        console.error('Error during call to suggestCharts:', error);\n",
              "      }\n",
              "      quickchartButtonEl.classList.remove('colab-df-spinner');\n",
              "      quickchartButtonEl.classList.add('colab-df-quickchart-complete');\n",
              "    }\n",
              "    (() => {\n",
              "      let quickchartButtonEl =\n",
              "        document.querySelector('#df-2f189ffd-4a3b-4d98-b72a-d33f979d23f7 button');\n",
              "      quickchartButtonEl.style.display =\n",
              "        google.colab.kernel.accessAllowed ? 'block' : 'none';\n",
              "    })();\n",
              "  </script>\n",
              "</div>\n",
              "\n",
              "    </div>\n",
              "  </div>\n"
            ],
            "application/vnd.google.colaboratory.intrinsic+json": {
              "type": "dataframe",
              "variable_name": "Movies_df",
              "summary": "{\n  \"name\": \"Movies_df\",\n  \"rows\": 110,\n  \"fields\": [\n    {\n      \"column\": \"Title\",\n      \"properties\": {\n        \"dtype\": \"string\",\n        \"num_unique_values\": 105,\n        \"samples\": [\n          \" Maidaan \",\n          \" K.G.F: Chapter 1 \",\n          \" A Family Affair \"\n        ],\n        \"semantic_type\": \"\",\n        \"description\": \"\"\n      }\n    },\n    {\n      \"column\": \"Release Year\",\n      \"properties\": {\n        \"dtype\": \"object\",\n        \"num_unique_values\": 14,\n        \"samples\": [\n          \" 2022 \",\n          \" 2013 \",\n          \" 2024 \"\n        ],\n        \"semantic_type\": \"\",\n        \"description\": \"\"\n      }\n    },\n    {\n      \"column\": \"Genre\",\n      \"properties\": {\n        \"dtype\": \"string\",\n        \"num_unique_values\": 85,\n        \"samples\": [\n          \"Fantasy, Comedy, Science-Fiction\",\n          \"Science-Fiction, Drama, Action & Adventure, Fantasy, Mystery & Thriller\",\n          \"Action & Adventure, Fantasy, Science-Fiction\"\n        ],\n        \"semantic_type\": \"\",\n        \"description\": \"\"\n      }\n    },\n    {\n      \"column\": \"Imdb Rating\",\n      \"properties\": {\n        \"dtype\": \"category\",\n        \"num_unique_values\": 39,\n        \"samples\": [\n          \"8.2\",\n          \"5.6\",\n          \"6.9\"\n        ],\n        \"semantic_type\": \"\",\n        \"description\": \"\"\n      }\n    },\n    {\n      \"column\": \"Runtime\",\n      \"properties\": {\n        \"dtype\": \"string\",\n        \"num_unique_values\": 68,\n        \"samples\": [\n          \"2h 16min\",\n          \"1h 56min\",\n          \"1h 50min\"\n        ],\n        \"semantic_type\": \"\",\n        \"description\": \"\"\n      }\n    },\n    {\n      \"column\": \"Age Rating\",\n      \"properties\": {\n        \"dtype\": \"category\",\n        \"num_unique_values\": 4,\n        \"samples\": [\n          \"NA\",\n          \"U\",\n          \"UA\"\n        ],\n        \"semantic_type\": \"\",\n        \"description\": \"\"\n      }\n    },\n    {\n      \"column\": \"Country origin\",\n      \"properties\": {\n        \"dtype\": \"category\",\n        \"num_unique_values\": 20,\n        \"samples\": [\n          \"India\",\n          \"Germany, Japan\",\n          \"India, Sweden\"\n        ],\n        \"semantic_type\": \"\",\n        \"description\": \"\"\n      }\n    },\n    {\n      \"column\": \"Streaming Provider\",\n      \"properties\": {\n        \"dtype\": \"category\",\n        \"num_unique_values\": 16,\n        \"samples\": [\n          \"Bookmyshow\",\n          \"Amazon Prime Video\",\n          \"Hotstar\"\n        ],\n        \"semantic_type\": \"\",\n        \"description\": \"\"\n      }\n    },\n    {\n      \"column\": \"Url\",\n      \"properties\": {\n        \"dtype\": \"string\",\n        \"num_unique_values\": 105,\n        \"samples\": [\n          \"https://www.justwatch.com/in/movie/maidaan\",\n          \"https://www.justwatch.com/in/movie/k-g-f-chapter-1\",\n          \"https://www.justwatch.com/in/movie/a-family-affair-2023\"\n        ],\n        \"semantic_type\": \"\",\n        \"description\": \"\"\n      }\n    },\n    {\n      \"column\": \"Type\",\n      \"properties\": {\n        \"dtype\": \"category\",\n        \"num_unique_values\": 1,\n        \"samples\": [\n          \"Movie\"\n        ],\n        \"semantic_type\": \"\",\n        \"description\": \"\"\n      }\n    }\n  ]\n}"
            }
          },
          "metadata": {},
          "execution_count": 24
        }
      ]
    },
    {
      "cell_type": "code",
      "source": [
        "# Checking Null values\n",
        "print(Movies_df.isnull().sum())"
      ],
      "metadata": {
        "colab": {
          "base_uri": "https://localhost:8080/"
        },
        "id": "0L0XNZbKjfpM",
        "outputId": "fc9e4a59-0b3e-4f5e-9d2e-d79763e7f471"
      },
      "execution_count": null,
      "outputs": [
        {
          "output_type": "stream",
          "name": "stdout",
          "text": [
            "Title                 0\n",
            "Release Year          0\n",
            "Genre                 0\n",
            "Imdb Rating           0\n",
            "Runtime               0\n",
            "Age Rating            0\n",
            "Country origin        0\n",
            "Streaming Provider    0\n",
            "Url                   0\n",
            "Type                  0\n",
            "dtype: int64\n"
          ]
        }
      ]
    },
    {
      "cell_type": "code",
      "source": [
        "##Changing NA value in  Imdb rating with NaN(Not a number)\n",
        "Movies_df['Imdb Rating'] = Movies_df['Imdb Rating'].replace(\"NA\",float(\"NaN\"))"
      ],
      "metadata": {
        "id": "sFnw0tl4p3kn"
      },
      "execution_count": null,
      "outputs": []
    },
    {
      "cell_type": "markdown",
      "source": [
        "## **Scraping TV  Show Data**"
      ],
      "metadata": {
        "id": "LYQ5acWzJRZr"
      }
    },
    {
      "cell_type": "code",
      "source": [
        "# Specifying the URL from which tv show related data will be fetched\n",
        "tv_url='https://www.justwatch.com/in/tv-shows?release_year_from=2000'\n",
        "\n",
        "# Parsing the HTML content using custom function, BeautifulSoup with the 'html.parser'\n",
        "tv_show_soup = fetch_url_content(tv_url)\n",
        "\n",
        "# Printing the prettified HTML content\n",
        "print(tv_show_soup.prettify())"
      ],
      "metadata": {
        "id": "Xic8FWfwI6AT"
      },
      "execution_count": null,
      "outputs": []
    },
    {
      "cell_type": "markdown",
      "source": [
        "## **Fetching Tv shows Url details**"
      ],
      "metadata": {
        "id": "ev-VUSNvJ-fJ"
      }
    },
    {
      "cell_type": "code",
      "source": [
        "# Write Your Code here\n",
        "\n",
        "# Define empty list for extraction\n",
        "Tv_shows_url  =[]\n",
        "\n",
        "Tv_shows_link = tv_show_soup.find_all(\"a\",class_=\"title-list-grid__item--link\")\n",
        "\n",
        "for link in Tv_shows_link:\n",
        "    tv_shows_url = \"https://www.justwatch.com\"+link[\"href\"]\n",
        "    Tv_shows_url.append(tv_shows_url)\n"
      ],
      "metadata": {
        "id": "eMlwT4I-8gGh"
      },
      "execution_count": null,
      "outputs": []
    },
    {
      "cell_type": "code",
      "source": [
        "print(f\"Number of records :{len(Tv_shows_url)}\")\n",
        "print(Tv_shows_url)"
      ],
      "metadata": {
        "colab": {
          "base_uri": "https://localhost:8080/"
        },
        "id": "6Sp8Bs5fl0Oq",
        "outputId": "7cfe932c-9749-44c3-aa90-62a8dade74f9"
      },
      "execution_count": null,
      "outputs": [
        {
          "output_type": "stream",
          "name": "stdout",
          "text": [
            "Number of records :100\n",
            "['https://www.justwatch.com/in/tv-show/mirzapur', 'https://www.justwatch.com/in/tv-show/house-of-the-dragon', 'https://www.justwatch.com/in/tv-show/panchayat', 'https://www.justwatch.com/in/tv-show/the-boys', 'https://www.justwatch.com/in/tv-show/kota-factory', 'https://www.justwatch.com/in/tv-show/demon-slayer-kimetsu-no-yaiba', 'https://www.justwatch.com/in/tv-show/game-of-thrones', 'https://www.justwatch.com/in/tv-show/gullak', 'https://www.justwatch.com/in/tv-show/the-bear', 'https://www.justwatch.com/in/tv-show/shogun-2024', 'https://www.justwatch.com/in/tv-show/bridgerton', 'https://www.justwatch.com/in/tv-show/apharan', 'https://www.justwatch.com/in/tv-show/evil', 'https://www.justwatch.com/in/tv-show/fargo', 'https://www.justwatch.com/in/tv-show/bigg-boss-ott', 'https://www.justwatch.com/in/tv-show/supacell', 'https://www.justwatch.com/in/tv-show/attack-on-titan', 'https://www.justwatch.com/in/tv-show/dark-matter-2024', 'https://www.justwatch.com/in/tv-show/raising-voices', 'https://www.justwatch.com/in/tv-show/aashram', 'https://www.justwatch.com/in/tv-show/presumed-innocent', 'https://www.justwatch.com/in/tv-show/mastram', 'https://www.justwatch.com/in/tv-show/heeramandi', 'https://www.justwatch.com/in/tv-show/the-good-doctor', 'https://www.justwatch.com/in/tv-show/3-body-problem', 'https://www.justwatch.com/in/tv-show/breaking-bad', 'https://www.justwatch.com/in/tv-show/x-x-x-uncensored', 'https://www.justwatch.com/in/tv-show/fallout', 'https://www.justwatch.com/in/tv-show/the-mole-2022', 'https://www.justwatch.com/in/tv-show/stranger-things', 'https://www.justwatch.com/in/tv-show/paperhouse', 'https://www.justwatch.com/in/tv-show/jamnapaar', 'https://www.justwatch.com/in/tv-show/sunflower-2021', 'https://www.justwatch.com/in/tv-show/bigg-boss', 'https://www.justwatch.com/in/tv-show/farzi', 'https://www.justwatch.com/in/tv-show/tulsa-king', 'https://www.justwatch.com/in/tv-show/asur', 'https://www.justwatch.com/in/tv-show/the-rookie', 'https://www.justwatch.com/in/tv-show/the-acolyte', 'https://www.justwatch.com/in/tv-show/my-lady-jane', 'https://www.justwatch.com/in/tv-show/maxton-hall-the-world-between-us', 'https://www.justwatch.com/in/tv-show/true-detective', 'https://www.justwatch.com/in/tv-show/into-the-dark', 'https://www.justwatch.com/in/tv-show/dark', 'https://www.justwatch.com/in/tv-show/the-family-man', 'https://www.justwatch.com/in/tv-show/mtv-splitsvilla', 'https://www.justwatch.com/in/tv-show/my-demon', 'https://www.justwatch.com/in/tv-show/jujutsu-kaisen', 'https://www.justwatch.com/in/tv-show/peaky-blinders', 'https://www.justwatch.com/in/tv-show/the-orville', 'https://www.justwatch.com/in/tv-show/agents-of-mystery', 'https://www.justwatch.com/in/tv-show/lost', 'https://www.justwatch.com/in/tv-show/from', 'https://www.justwatch.com/in/tv-show/the-walking-dead-the-ones-who-live', 'https://www.justwatch.com/in/tv-show/untitled-kapil-sharma-netflix-project', 'https://www.justwatch.com/in/tv-show/kaiju-no-8', 'https://www.justwatch.com/in/tv-show/the-walking-dead', 'https://www.justwatch.com/in/tv-show/gandii-baat', 'https://www.justwatch.com/in/tv-show/the-legend-of-hanuman', 'https://www.justwatch.com/in/tv-show/under-the-dome', 'https://www.justwatch.com/in/tv-show/faadu', 'https://www.justwatch.com/in/tv-show/modern-family', 'https://www.justwatch.com/in/tv-show/sarkaar', 'https://www.justwatch.com/in/tv-show/alice-in-borderland', 'https://www.justwatch.com/in/tv-show/college-romance', 'https://www.justwatch.com/in/tv-show/36-days', 'https://www.justwatch.com/in/tv-show/hidden-love', 'https://www.justwatch.com/in/tv-show/the-flash', 'https://www.justwatch.com/in/tv-show/euphoria', 'https://www.justwatch.com/in/tv-show/yellowstone', 'https://www.justwatch.com/in/tv-show/vikings', 'https://www.justwatch.com/in/tv-show/naruto', 'https://www.justwatch.com/in/tv-show/young-sheldon', 'https://www.justwatch.com/in/tv-show/la-brea', 'https://www.justwatch.com/in/tv-show/how-i-met-your-mother', 'https://www.justwatch.com/in/tv-show/paurashpur', 'https://www.justwatch.com/in/tv-show/mayor-of-kingstown', 'https://www.justwatch.com/in/tv-show/mahabharatham', 'https://www.justwatch.com/in/tv-show/the-handmaids-tale', 'https://www.justwatch.com/in/tv-show/person-of-interest', 'https://www.justwatch.com/in/tv-show/naruto-shippuden', 'https://www.justwatch.com/in/tv-show/resident-alien', 'https://www.justwatch.com/in/tv-show/lucifer', 'https://www.justwatch.com/in/tv-show/spartacus', 'https://www.justwatch.com/in/tv-show/the-victims-game', 'https://www.justwatch.com/in/tv-show/jeet-ki-zid', 'https://www.justwatch.com/in/tv-show/the-last-of-us', 'https://www.justwatch.com/in/tv-show/taaza-khabar', 'https://www.justwatch.com/in/tv-show/maharani-2021', 'https://www.justwatch.com/in/tv-show/mismatched', 'https://www.justwatch.com/in/tv-show/jack-reacher', 'https://www.justwatch.com/in/tv-show/scam-1992', 'https://www.justwatch.com/in/tv-show/the-man-with-1000-kids', 'https://www.justwatch.com/in/tv-show/one-punch-man', 'https://www.justwatch.com/in/tv-show/interview-with-the-vampire', 'https://www.justwatch.com/in/tv-show/tvf-pitchers', 'https://www.justwatch.com/in/tv-show/suits', 'https://www.justwatch.com/in/tv-show/you', 'https://www.justwatch.com/in/tv-show/she', 'https://www.justwatch.com/in/tv-show/dr-arora']\n"
          ]
        }
      ]
    },
    {
      "cell_type": "markdown",
      "source": [
        "## **Fetching Tv Show Title details**"
      ],
      "metadata": {
        "id": "1vZLzmqcKDPX"
      }
    },
    {
      "cell_type": "code",
      "source": [
        "# Write Your Code here\n",
        "\n",
        "# Define empty list for extraction\n",
        "Tv_shows_Title =[]\n",
        "\n",
        "# for each url in Tv_shows_url fetch_url_content\n",
        "for url in Tv_shows_url:\n",
        "  individual_show_soup = fetch_url_content(url)\n",
        "  title = individual_show_soup.find(\"div\",class_=\"title-block\").h1.text\n",
        "  Tv_shows_Title.append(title) # append in empty list\n"
      ],
      "metadata": {
        "id": "a8Y6UF6-JLvO"
      },
      "execution_count": null,
      "outputs": []
    },
    {
      "cell_type": "code",
      "source": [
        "print(f\"Number of records :{len(Tv_shows_Title)}\")\n",
        "print(Tv_shows_Title)"
      ],
      "metadata": {
        "colab": {
          "base_uri": "https://localhost:8080/"
        },
        "id": "V3Xx6Ht0mnh8",
        "outputId": "9cfb9cb6-d455-42fd-e957-4ee6d6a47d71"
      },
      "execution_count": null,
      "outputs": [
        {
          "output_type": "stream",
          "name": "stdout",
          "text": [
            "Number of records :100\n",
            "[' Mirzapur ', ' House of the Dragon ', ' Panchayat ', ' The Boys ', ' Kota Factory ', ' Demon Slayer: Kimetsu no Yaiba ', ' Game of Thrones ', ' Gullak ', ' The Bear ', ' Shōgun ', ' Bridgerton ', ' Apharan ', ' Evil ', ' Fargo ', ' Bigg Boss OTT ', ' Supacell ', ' Attack on Titan ', ' Dark Matter ', ' Raising Voices ', ' Aashram ', ' Presumed Innocent ', ' Mastram ', ' Heeramandi: The Diamond Bazaar ', ' The Good Doctor ', ' 3 Body Problem ', ' Breaking Bad ', ' XXX: Uncensored ', ' Fallout ', ' The Mole ', ' Stranger Things ', ' Money Heist ', ' Jamnapaar ', ' Sunflower ', ' Bigg Boss ', ' Farzi ', ' Tulsa King ', ' Asur: Welcome to Your Dark Side ', ' The Rookie ', ' The Acolyte ', ' My Lady Jane ', ' Maxton Hall: The World Between Us ', ' True Detective ', ' Into the Dark ', ' Dark ', ' The Family Man ', ' MTV Splitsvilla ', ' My Demon ', ' Jujutsu Kaisen ', ' Peaky Blinders ', ' The Orville ', ' Agents of Mystery ', ' Lost ', ' From ', ' The Walking Dead: The Ones Who Live ', ' The Great Indian Kapil Show ', ' Kaiju No. 8 ', ' The Walking Dead ', ' Gandii Baat ', ' The Legend of Hanuman ', ' Under the Dome ', ' Faadu ', ' Modern Family ', ' Sarkaar ', ' Alice in Borderland ', ' College Romance ', ' 36 Days ', ' Hidden Love ', ' The Flash ', ' Euphoria ', ' Yellowstone ', ' Vikings ', ' Naruto ', ' Young Sheldon ', ' La Brea ', ' How I Met Your Mother ', ' Paurashpur ', ' Mayor of Kingstown ', ' Mahabharatham ', \" The Handmaid's Tale \", ' Person of Interest ', ' Naruto Shippūden ', ' Resident Alien ', ' Lucifer ', ' Spartacus ', \" The Victims' Game \", ' Jeet Ki Zid ', ' The Last of Us ', ' Taaza Khabar ', ' Maharani ', ' Mismatched ', ' Reacher ', ' Scam 1992 ', ' The Man with 1000 Kids ', ' One-Punch Man ', ' Interview with the Vampire ', ' TVF Pitchers ', ' Suits ', ' You ', ' She ', ' Dr. Arora ']\n"
          ]
        }
      ]
    },
    {
      "cell_type": "markdown",
      "source": [
        "## **Fetching Release Year**"
      ],
      "metadata": {
        "id": "mEIt9j6RKa9B"
      }
    },
    {
      "cell_type": "code",
      "source": [
        "# Write Your Code here\n",
        "# Define empty list for extraction\n",
        "Release_year_ =[]\n",
        "\n",
        "# for each url in Tv_shows_url fetch_url_content\n",
        "for url in Tv_shows_url:\n",
        "  individual_show_soup = fetch_url_content(url)\n",
        "  year = individual_show_soup.find(\"div\",class_=\"title-block\").span.text.strip(\"( )\")\n",
        "  Release_year_.append(year)# append in empty list"
      ],
      "metadata": {
        "id": "r72fyiF8JozW"
      },
      "execution_count": null,
      "outputs": []
    },
    {
      "cell_type": "code",
      "source": [
        "print(f\"Number of records :{len(Release_year_)}\")\n",
        "print(Release_year_)"
      ],
      "metadata": {
        "colab": {
          "base_uri": "https://localhost:8080/"
        },
        "id": "kCP8NzlFoJOB",
        "outputId": "397ce121-cf7b-47f9-e59b-918f9ee6e01a"
      },
      "execution_count": null,
      "outputs": [
        {
          "output_type": "stream",
          "name": "stdout",
          "text": [
            "Number of records :100\n",
            "['2018', '2022', '2020', '2019', '2019', '2019', '2011', '2019', '2022', '2024', '2020', '2018', '2019', '2014', '2021', '2024', '2013', '2024', '2024', '2020', '2024', '2020', '2024', '2017', '2024', '2008', '2018', '2024', '2022', '2016', '2017', '2024', '2021', '2006', '2023', '2022', '2020', '2018', '2024', '2024', '2024', '2014', '2018', '2017', '2019', '2008', '2023', '2020', '2013', '2017', '2024', '2004', '2022', '2024', '2024', '2024', '2010', '2018', '2021', '2013', '2022', '2009', '2021', '2020', '2018', '2024', '2023', '2014', '2019', '2018', '2013', '2002', '2017', '2021', '2005', '2020', '2021', '2013', '2017', '2011', '2007', '2021', '2016', '2010', '2020', '2021', '2023', '2023', '2021', '2020', '2022', '2020', '2024', '2015', '2022', '2015', '2011', '2018', '2020', '2022']\n"
          ]
        }
      ]
    },
    {
      "cell_type": "markdown",
      "source": [
        "## **Fetching TV Show Genre Details**"
      ],
      "metadata": {
        "id": "P96pGO9kRCLv"
      }
    },
    {
      "cell_type": "code",
      "source": [
        "# Write Your Code here\n",
        "\n",
        "# Define empty list for extraction\n",
        "Genre_ =[]\n",
        "\n",
        "# for each url in Tv_shows_url fetch_url_content\n",
        "for url in Tv_shows_url:\n",
        "  individual_show_soup = fetch_url_content(url)\n",
        "\n",
        "  # using try - except if genre not available handle exception\n",
        "  try:\n",
        "    Genre_indi1 = individual_show_soup.find('span', class_ = 'detail-infos__value').text\n",
        "  except:\n",
        "    Genre_indi1 ='NA' # if no genre append \"NA\"\n",
        "\n",
        "  Genre_.append(Genre_indi1)"
      ],
      "metadata": {
        "id": "Jay8a9xgT43-"
      },
      "execution_count": null,
      "outputs": []
    },
    {
      "cell_type": "code",
      "source": [
        "print(f\"Number of records :{len(Genre_)}\")\n",
        "print(Genre_)"
      ],
      "metadata": {
        "colab": {
          "base_uri": "https://localhost:8080/"
        },
        "id": "byGgd0bGqVuM",
        "outputId": "383c0de8-fb53-49b1-daf9-602a0b8cb5f3"
      },
      "execution_count": null,
      "outputs": [
        {
          "output_type": "stream",
          "name": "stdout",
          "text": [
            "Number of records :100\n",
            "['Crime, Action & Adventure, Drama, Mystery & Thriller', 'Action & Adventure, Science-Fiction, Drama, Fantasy, Romance', 'Drama, Comedy', 'Science-Fiction, Action & Adventure, Comedy, Crime, Drama', 'Comedy, Drama', 'Animation, Action & Adventure, Fantasy, Mystery & Thriller', 'Action & Adventure, Drama, Fantasy, Science-Fiction', 'Comedy, Drama, Kids & Family', 'Comedy, Drama', 'War & Military, Drama, History', 'Drama, Romance', 'Drama, Crime, Mystery & Thriller, Action & Adventure', 'Mystery & Thriller, Crime, Drama, Horror', 'Drama, Crime, Mystery & Thriller', 'Reality TV', 'Action & Adventure, Science-Fiction, Drama', 'Fantasy, Horror, Animation, Action & Adventure, Drama, Science-Fiction', 'Drama, Science-Fiction, Mystery & Thriller', 'Drama', 'Crime, Drama, Mystery & Thriller', 'Mystery & Thriller, Drama, Crime', 'Drama, Fantasy, Comedy', 'Drama, History, Romance, War & Military', 'Drama', 'Science-Fiction, Drama, Fantasy', 'Drama, Crime, Mystery & Thriller', 'Comedy, Romance, Drama', 'Science-Fiction, War & Military, Action & Adventure, Drama, Mystery & Thriller', 'Reality TV', 'Drama, Science-Fiction, Mystery & Thriller, Fantasy, Horror', 'Action & Adventure, Crime, Drama, Mystery & Thriller, Made in Europe', 'Drama', 'Comedy, Crime', 'Reality TV, Kids & Family', 'Crime, Drama, Mystery & Thriller', 'Drama, Crime', 'Crime, Drama, Mystery & Thriller', 'Comedy, Crime, Drama, Action & Adventure', 'Mystery & Thriller, Science-Fiction, Action & Adventure, Drama, Fantasy', 'Drama, Science-Fiction, Fantasy, History, Romance, Comedy', 'Drama, Romance', 'Drama, Crime, Mystery & Thriller', 'Fantasy, Horror, Science-Fiction, Mystery & Thriller, Drama', 'Science-Fiction, Mystery & Thriller, Crime, Drama', 'Action & Adventure, Comedy, Drama', 'Reality TV, Romance', 'Drama, Comedy, Science-Fiction, Fantasy, Romance', 'Mystery & Thriller, Animation, Action & Adventure, Fantasy, Science-Fiction', 'Drama, Crime', 'Science-Fiction, Comedy, Drama', 'Reality TV, Crime', 'Action & Adventure, Drama, Fantasy, Science-Fiction, Mystery & Thriller', 'Mystery & Thriller, Drama, Horror, Science-Fiction', 'Drama, Science-Fiction, Horror, Mystery & Thriller', 'Comedy', 'Fantasy, Horror, Science-Fiction, Animation, Action & Adventure', 'Drama, Science-Fiction, Action & Adventure, Horror, Mystery & Thriller', 'Crime, Drama, Mystery & Thriller', 'Animation, Action & Adventure, Kids & Family, Fantasy', 'Drama, Mystery & Thriller, Science-Fiction', 'Drama', 'Romance, Comedy, Drama', 'Reality TV', 'Science-Fiction, Mystery & Thriller, Action & Adventure, Drama', 'Drama, Comedy, Romance', 'Mystery & Thriller', 'Drama', 'Drama, Science-Fiction, Action & Adventure', 'Drama', 'Western, Drama', 'War & Military, Action & Adventure, Drama, History, Romance, Made in Europe', 'Action & Adventure, Science-Fiction, Animation, Comedy, Fantasy', 'Comedy, Kids & Family', 'Science-Fiction, Drama, Action & Adventure', 'Comedy, Drama, Romance', 'Drama', 'Crime, Mystery & Thriller, Drama', 'Drama, History, War & Military', 'Drama, Science-Fiction, Mystery & Thriller', 'Science-Fiction, Drama, Action & Adventure, Crime, Mystery & Thriller', 'Action & Adventure, Science-Fiction, Comedy, Drama, Fantasy, Animation', 'Science-Fiction, Comedy, Drama', 'Crime, Science-Fiction, Fantasy, Drama', 'Drama, Romance, Action & Adventure', 'Drama, Crime, Mystery & Thriller', 'Drama, Action & Adventure', 'Drama, Action & Adventure, Horror, Science-Fiction, Mystery & Thriller', 'Science-Fiction, Drama, Fantasy, Mystery & Thriller, Action & Adventure, Comedy', 'Drama', 'Romance, Comedy, Drama', 'Mystery & Thriller, Action & Adventure, Crime, Drama', 'Crime, Drama, Mystery & Thriller', 'Documentary, Crime', 'Animation, Comedy, Action & Adventure, Science-Fiction, Kids & Family, Fantasy', 'Drama, Fantasy, Horror', 'Comedy, Drama', 'Comedy, Drama', 'Drama, Romance, Mystery & Thriller, Crime', 'Drama, Crime', 'Comedy, Drama']\n"
          ]
        }
      ]
    },
    {
      "cell_type": "markdown",
      "source": [
        "## **Fetching IMDB Rating Details**"
      ],
      "metadata": {
        "id": "hk3eSdDAXQv8"
      }
    },
    {
      "cell_type": "code",
      "source": [
        "# Write Your Code here\n",
        "# Define empty list for extraction\n",
        "Imdb_Rating_ =[]\n",
        "\n",
        "# for each url in Tv_shows_url fetch_url_content\n",
        "for url in Tv_shows_url:\n",
        "  individual_show_soup = fetch_url_content(url)\n",
        "\n",
        "  # using try - except if rating not available handle exception\n",
        "  try:\n",
        "    Imdb = individual_show_soup.find_all(\"div\",class_=\"jw-scoring-listing__rating\")[1].span\n",
        "    Imdb1= Imdb.text[1:4]\n",
        "\n",
        "  except Exception as e:\n",
        "    # print(err)\n",
        "    Imdb1 = \"NA\" # if no rating append \"NA\"\n",
        "  Imdb_Rating_.append(Imdb1)"
      ],
      "metadata": {
        "id": "EmltFOQEXM2W"
      },
      "execution_count": null,
      "outputs": []
    },
    {
      "cell_type": "code",
      "source": [
        "print(f\"Number of records :{len(Imdb_Rating_)}\")\n",
        "print(Imdb_Rating_)"
      ],
      "metadata": {
        "colab": {
          "base_uri": "https://localhost:8080/"
        },
        "id": "2ZTQMfSxrJL4",
        "outputId": "669d6a3a-564f-4dff-9346-4faa2caa6b08"
      },
      "execution_count": null,
      "outputs": [
        {
          "output_type": "stream",
          "name": "stdout",
          "text": [
            "Number of records :100\n",
            "['8.5', '8.4', '9.0', '8.7', '9.0', '8.6', '9.2', '9.1', '8.6', '8.7', '7.4', '8.2', '7.8', '8.9', '1.9', '6.9', '9.1', '7.7', '7.2', '7.4', '7.7', '6.9', '6.4', '8.0', '7.5', '9.5', '4.8', '8.4', '7.6', '8.7', '8.2', '8.3', '7.4', '3.7', '8.4', '8.0', '8.5', '8.0', '3.5', '7.3', '7.5', '8.9', '6.4', '8.7', '8.7', '3.8', '7.7', '8.6', '8.8', '8.0', '6.9', '8.3', 'NA', '7.9', '6.7', '8.4', '8.1', '3.4', '9.1', '6.5', 'NA', '8.5', '7.7', '7.7', '8.3', '4.9', 'NA', '7.5', '8.3', '8.7', '8.5', '8.4', '7.7', '5.8', '8.3', '3.7', '8.2', '9.0', '8.4', '8.5', '8.7', '8.1', '8.1', '8.5', '7.3', '8.3', '8.7', '8.1', '7.9', '5.9', '8.0', '9.3', '6.6', '8.7', '7.2', '9.1', '8.4', '7.7', '6.4', '7.1']\n"
          ]
        }
      ]
    },
    {
      "cell_type": "markdown",
      "source": [
        "## **Fetching Age Rating Details**"
      ],
      "metadata": {
        "id": "XZ9nJhmiZB_W"
      }
    },
    {
      "cell_type": "code",
      "source": [
        "# Write Your Code here\n",
        "# Define empty list for extraction\n",
        "Age_Rating_=[]\n",
        "\n",
        "# for each url in Tv_shows_url fetch_url_content\n",
        "for url in Tv_shows_url:\n",
        "  individual_show_soup = fetch_url_content(url)\n",
        "\n",
        "  # using try - except if age not available handle exception\n",
        "  try:\n",
        "    rating1 = individual_show_soup.find('h3', class_='detail-infos__subheading', string='Age rating').find_next_sibling('div', class_='detail-infos__value').text.strip()\n",
        "  except:\n",
        "    rating1 ='NA' # if no age rating append \"NA\"\n",
        "  Age_Rating_.append(rating1)\n"
      ],
      "metadata": {
        "id": "wR9Xo8piZA7p"
      },
      "execution_count": null,
      "outputs": []
    },
    {
      "cell_type": "code",
      "source": [
        "print(f\"Number of records :{len(Age_Rating_)}\")\n",
        "print(Age_Rating_)"
      ],
      "metadata": {
        "colab": {
          "base_uri": "https://localhost:8080/"
        },
        "id": "_y9zw-RBvObY",
        "outputId": "e0a83e43-11ee-4707-8bce-0fcd34c92441"
      },
      "execution_count": null,
      "outputs": [
        {
          "output_type": "stream",
          "name": "stdout",
          "text": [
            "Number of records :100\n",
            "['NA', 'A', 'NA', 'A', 'NA', 'NA', 'A', 'NA', 'NA', 'NA', 'A', 'NA', 'NA', 'U', 'A', 'NA', 'UA', 'A', 'NA', 'NA', 'A', 'NA', 'NA', 'U', 'A', 'U', 'NA', 'A', 'NA', 'NA', 'NA', 'NA', 'A', 'NA', 'NA', 'NA', 'NA', 'NA', 'NA', 'NA', 'NA', 'U', 'NA', 'NA', 'NA', 'U', 'NA', 'NA', 'A', 'U', 'NA', 'U', 'NA', 'NA', 'NA', 'NA', 'U', 'A', 'NA', 'NA', 'NA', 'NA', 'NA', 'NA', 'A', 'NA', 'NA', 'NA', 'A', 'NA', 'U', 'NA', 'U', 'NA', 'U', 'A', 'NA', 'U', 'U', 'U', 'U', 'NA', 'U', 'NA', 'NA', 'UA', 'A', 'NA', 'UA', 'NA', 'A', 'NA', 'NA', 'NA', 'NA', 'NA', 'NA', 'A', 'NA', 'A']\n"
          ]
        }
      ]
    },
    {
      "cell_type": "markdown",
      "source": [
        "## **Fetching Production Country details**"
      ],
      "metadata": {
        "id": "ii49LH4tdNoN"
      }
    },
    {
      "cell_type": "code",
      "source": [
        "# Write Your Code here\n",
        "\n",
        "# Define empty list for extraction\n",
        "Country_origin_ =[]\n",
        "\n",
        "# for each url in Tv_shows_url fetch_url_content\n",
        "for url in Tv_shows_url:\n",
        "  individual_show_soup = fetch_url_content(url)\n",
        "\n",
        "  # using try - except if country not available handle exception\n",
        "  try:\n",
        "    country1 = individual_show_soup.find('h3', class_='detail-infos__subheading', string=' Production country ').find_next_sibling('div', class_='detail-infos__value').text.strip()\n",
        "\n",
        "  except:\n",
        "    country1 ='NA' # if no country append \"NA\"\n",
        "  Country_origin_.append(country1)"
      ],
      "metadata": {
        "id": "xihOeyN8XXDt"
      },
      "execution_count": null,
      "outputs": []
    },
    {
      "cell_type": "code",
      "source": [
        "print(f\"Number of records :{len(Country_origin_)}\")\n",
        "print(Country_origin_)"
      ],
      "metadata": {
        "colab": {
          "base_uri": "https://localhost:8080/"
        },
        "id": "dEvGbnDWw0vH",
        "outputId": "606c7a98-c3dc-4a91-efd8-519e20ac6273"
      },
      "execution_count": null,
      "outputs": [
        {
          "output_type": "stream",
          "name": "stdout",
          "text": [
            "Number of records :100\n",
            "['India', 'United States', 'India', 'United States', 'India', 'Japan', 'United Kingdom, United States', 'India', 'United States', 'United States', 'United States', 'India', 'United States', 'United States', 'India', 'United Kingdom', 'Japan', 'United States', 'Spain', 'India', 'United States', 'India', 'India', 'United States', 'United States', 'United States', 'India', 'United States', 'United States', 'United States', 'Spain', 'India', 'India', 'India', 'India', 'United States', 'India', 'United States', 'United States', 'United States', 'Germany', 'United States', 'United States', 'Germany', 'India', 'India', 'South Korea', 'Japan, United States', 'United Kingdom', 'United States', 'South Korea', 'United States', 'United States', 'United States', 'India', 'Japan', 'United States', 'India', 'India', 'United States', 'India', 'United States', 'India', 'Japan', 'India', 'India', 'China', 'United States', 'United States', 'United States', 'Canada', 'Japan', 'United States', 'United States', 'United States', 'India', 'United States', 'United States, India', 'United States', 'United States', 'Japan', 'United States', 'United States', 'United States', 'Taiwan', 'India', 'United States', 'India', 'India', 'India', 'United States', 'India', 'United Kingdom', 'Japan', 'United States', 'India', 'United States', 'United States', 'India', 'India']\n"
          ]
        }
      ]
    },
    {
      "cell_type": "markdown",
      "source": [
        "## **Fetching Streaming Service details**"
      ],
      "metadata": {
        "id": "mHZwwgiKdlQm"
      }
    },
    {
      "cell_type": "code",
      "source": [
        "# Write Your Code here\n",
        "\n",
        "# Define empty list for extraction\n",
        "Streaming_Provider_ =[]\n",
        "\n",
        "# for each url in Tv_shows_url fetch_url_content\n",
        "for url in Tv_shows_url:\n",
        "  individual_show_soup = fetch_url_content(url)\n",
        "\n",
        "  # using try - except if streaming service not available handle exception\n",
        "  try:\n",
        "    Stream_provider = individual_show_soup.find(\"div\",class_='buybox-row stream').find_all(\"img\",class_='offer__icon')\n",
        "    alt_values1 = [img['alt'] for img in Stream_provider]\n",
        "    alt_values1 = \",\".join(alt_values1)\n",
        "\n",
        "  except AttributeError as err:\n",
        "    alt_values1 = \"Na\" # if no Streaming service append \"NA\"\n",
        "  Streaming_Provider_.append(alt_values1)"
      ],
      "metadata": {
        "id": "_MBl6Vqadrl9"
      },
      "execution_count": null,
      "outputs": []
    },
    {
      "cell_type": "code",
      "source": [
        "print(f\"Number of records :{len(Streaming_Provider_)}\")\n",
        "print(Streaming_Provider_)"
      ],
      "metadata": {
        "colab": {
          "base_uri": "https://localhost:8080/"
        },
        "id": "aN_uB72vxqTY",
        "outputId": "3ee17b35-ae34-4405-a208-6dfed19f256d"
      },
      "execution_count": null,
      "outputs": [
        {
          "output_type": "stream",
          "name": "stdout",
          "text": [
            "Number of records :100\n",
            "['Amazon Prime Video', 'Jio Cinema', 'Amazon Prime Video', 'Amazon Prime Video', 'Netflix', 'Netflix,Crunchyroll,Crunchyroll Amazon Channel', 'Jio Cinema', 'Na', 'Hotstar', 'Hotstar', 'Netflix', 'Jio Cinema,Alt Balaji', 'Jio Cinema', 'Amazon Prime Video', 'Jio Cinema', 'Netflix', 'Amazon Prime Video,Anime Times Amazon Channel', 'Apple TV+', 'Netflix', 'MX Player', 'Apple TV+', 'Na', 'Netflix', 'Amazon Prime Video,Netflix,Sony Liv', 'Netflix', 'Netflix', 'Alt Balaji', 'Amazon Prime Video', 'Netflix', 'Netflix', 'Netflix', 'MX Player,Amazon miniTV', 'Zee5,VI movies and tv', 'Na', 'Amazon Prime Video', 'Jio Cinema', 'Jio Cinema', 'Na', 'Hotstar', 'Amazon Prime Video', 'Amazon Prime Video', 'Jio Cinema', 'Amazon Prime Video', 'Netflix', 'Amazon Prime Video', 'Jio Cinema', 'Netflix', 'Netflix,Amazon Prime Video,Crunchyroll,Crunchyroll Amazon Channel,Anime Times Amazon Channel', 'Netflix', 'Hotstar', 'Netflix', 'Na', 'Na', 'Amazon Prime Video', 'Netflix', 'Crunchyroll,Crunchyroll Amazon Channel', 'Netflix,Amazon Prime Video', 'Alt Balaji', 'Hotstar', 'Amazon Prime Video', 'Sony Liv', 'Hotstar', 'aha', 'Netflix', 'Sony Liv', 'Sony Liv', 'Netflix', 'Amazon Prime Video', 'Jio Cinema', 'Netflix', 'Netflix', 'Netflix,Amazon Prime Video,Anime Times Amazon Channel', 'Amazon Prime Video,Netflix', 'Jio Cinema', 'Hotstar', 'Alt Balaji', 'Amazon Prime Video', 'Hotstar', 'Amazon Prime Video', 'Na', 'Netflix,Crunchyroll,Crunchyroll Amazon Channel', 'Jio Cinema,Netflix', 'Netflix', 'Lionsgate Play,Lionsgate Play Apple TV Channel,Lionsgate Play Amazon Channel', 'Netflix', 'Zee5,VI movies and tv', 'Jio Cinema', 'Hotstar', 'Sony Liv,VI movies and tv', 'Netflix', 'Amazon Prime Video', 'Sony Liv', 'Netflix', 'Netflix,Amazon Prime Video,Crunchyroll,Anime Times Amazon Channel,Crunchyroll Amazon Channel', 'Amazon Prime Video', 'VI movies and tv,Zee5', 'Netflix,Amazon Prime Video,Jio Cinema', 'Netflix', 'Netflix', 'Sony Liv']\n"
          ]
        }
      ]
    },
    {
      "cell_type": "markdown",
      "source": [
        "## **Fetching Duration Details**"
      ],
      "metadata": {
        "id": "uUOtDJv9gM4a"
      }
    },
    {
      "cell_type": "code",
      "source": [
        "# Write Your Code here\n",
        "\n",
        "# Define empty list for extraction\n",
        "Runtime_ =[]\n",
        "\n",
        "# for each url in Tv_shows_url fetch_url_content\n",
        "for url in Tv_shows_url:\n",
        "  individual_show_soup = fetch_url_content(url)\n",
        "\n",
        "  # using try - except if duration not available handle exception\n",
        "  try:\n",
        "    Runtime_indi1 = individual_show_soup.find('h3', class_='detail-infos__subheading', string='Runtime').find_next_sibling('div', class_='detail-infos__value').text.strip()\n",
        "  except:\n",
        "    Runtime_indi1 ='NA' # if no duration append \"NA\"\n",
        "\n",
        "  Runtime_.append(Runtime_indi1)"
      ],
      "metadata": {
        "id": "o4x4YY6AfoL1"
      },
      "execution_count": null,
      "outputs": []
    },
    {
      "cell_type": "code",
      "source": [
        "print(f\"Number of records :{len(Runtime_)}\")\n",
        "print(Runtime_)"
      ],
      "metadata": {
        "colab": {
          "base_uri": "https://localhost:8080/"
        },
        "id": "G1Xub_2P1jkF",
        "outputId": "8cfe7661-705a-4a0c-bbe3-c3ee8479ca05"
      },
      "execution_count": null,
      "outputs": [
        {
          "output_type": "stream",
          "name": "stdout",
          "text": [
            "Number of records :100\n",
            "['50min', '1h 0min', '35min', '1h 1min', '43min', '26min', '58min', '30min', '34min', '59min', '1h 1min', '24min', '49min', '52min', '1h 30min', '52min', '25min', '52min', '46min', '43min', '47min', '28min', '54min', '43min', '56min', '47min', '22min', '59min', '45min', '1h 1min', '50min', '32min', '38min', '1h 16min', '56min', '38min', '47min', '43min', '38min', '50min', '45min', '1h 1min', '1h 23min', '56min', '45min', '44min', '1h 6min', '24min', '58min', '53min', '45min', '43min', '50min', '51min', '55min', '24min', '46min', '44min', '21min', '43min', '43min', '21min', '52min', '54min', '31min', '37min', '45min', '45min', '58min', '50min', '45min', '23min', '19min', '42min', '24min', '26min', '46min', '23min', '52min', '44min', '24min', '44min', '47min', '54min', '57min', '39min', '58min', '29min', '44min', '36min', '48min', '52min', '41min', '24min', '49min', '52min', '44min', '48min', '42min', '38min']\n"
          ]
        }
      ]
    },
    {
      "cell_type": "markdown",
      "source": [
        "## **Creating TV Show DataFrame**"
      ],
      "metadata": {
        "id": "nD4QVPT-nfVR"
      }
    },
    {
      "cell_type": "code",
      "source": [
        "# Write Your Code here\n",
        "# created a dictionary with variable name as keys and extracted content lists as values\n",
        "dict2 ={\"Title\":Tv_shows_Title,\"Release Year\":Release_year_,\"Genre\":Genre_,\"Imdb Rating\":Imdb_Rating_,\n",
        "        \"Runtime\":Runtime_,\"Age Rating\":Age_Rating_,\"Country origin\":Country_origin_,\n",
        "        \"Url\":Tv_shows_url,\"Streaming Provider\":Streaming_Provider_,'Type':'Tv Show'}\n",
        "\n",
        "\n",
        "Tv_Shows_df = pd.DataFrame(dict2)"
      ],
      "metadata": {
        "id": "W3Lnlb-xip2U"
      },
      "execution_count": null,
      "outputs": []
    },
    {
      "cell_type": "code",
      "source": [
        "print(Tv_Shows_df.isnull().sum())"
      ],
      "metadata": {
        "colab": {
          "base_uri": "https://localhost:8080/"
        },
        "id": "xkOdYMbNADo3",
        "outputId": "938a6209-7c8d-48d6-f22b-99d472878644"
      },
      "execution_count": null,
      "outputs": [
        {
          "output_type": "stream",
          "name": "stdout",
          "text": [
            "Title                 0\n",
            "Release Year          0\n",
            "Genre                 0\n",
            "Imdb Rating           0\n",
            "Runtime               0\n",
            "Age Rating            0\n",
            "Country origin        0\n",
            "Url                   0\n",
            "Streaming Provider    0\n",
            "Type                  0\n",
            "dtype: int64\n"
          ]
        }
      ]
    },
    {
      "cell_type": "code",
      "source": [
        "##Changing NA value in  Imdb rating with NaN(Not a number)\n",
        "Tv_Shows_df['Imdb Rating'] = Tv_Shows_df['Imdb Rating'].replace(\"NA\",float(\"NaN\"))"
      ],
      "metadata": {
        "id": "aQpmenE8_96B"
      },
      "execution_count": null,
      "outputs": []
    },
    {
      "cell_type": "code",
      "source": [
        "Tv_Shows_df.head()"
      ],
      "metadata": {
        "colab": {
          "base_uri": "https://localhost:8080/"
        },
        "id": "lko4waDGAScw",
        "outputId": "eca97174-d349-442d-b44b-71d71005773b"
      },
      "execution_count": null,
      "outputs": [
        {
          "output_type": "execute_result",
          "data": {
            "text/plain": [
              "                   Title Release Year  \\\n",
              "0              Mirzapur          2018   \n",
              "1   House of the Dragon          2022   \n",
              "2             Panchayat          2020   \n",
              "3              The Boys          2019   \n",
              "4          Kota Factory          2019   \n",
              "\n",
              "                                               Genre Imdb Rating  Runtime  \\\n",
              "0  Crime, Action & Adventure, Drama, Mystery & Th...         8.5    50min   \n",
              "1  Action & Adventure, Science-Fiction, Drama, Fa...         8.4  1h 0min   \n",
              "2                                      Drama, Comedy         9.0    35min   \n",
              "3  Science-Fiction, Action & Adventure, Comedy, C...         8.7  1h 1min   \n",
              "4                                      Comedy, Drama         9.0    43min   \n",
              "\n",
              "  Age Rating Country origin  \\\n",
              "0         NA          India   \n",
              "1          A  United States   \n",
              "2         NA          India   \n",
              "3          A  United States   \n",
              "4         NA          India   \n",
              "\n",
              "                                                 Url  Streaming Provider  \\\n",
              "0      https://www.justwatch.com/in/tv-show/mirzapur  Amazon Prime Video   \n",
              "1  https://www.justwatch.com/in/tv-show/house-of-...          Jio Cinema   \n",
              "2     https://www.justwatch.com/in/tv-show/panchayat  Amazon Prime Video   \n",
              "3      https://www.justwatch.com/in/tv-show/the-boys  Amazon Prime Video   \n",
              "4  https://www.justwatch.com/in/tv-show/kota-factory             Netflix   \n",
              "\n",
              "      Type  \n",
              "0  Tv Show  \n",
              "1  Tv Show  \n",
              "2  Tv Show  \n",
              "3  Tv Show  \n",
              "4  Tv Show  "
            ],
            "text/html": [
              "\n",
              "  <div id=\"df-efc6623a-5fab-4e1c-9463-f6dc0063a420\" class=\"colab-df-container\">\n",
              "    <div>\n",
              "<style scoped>\n",
              "    .dataframe tbody tr th:only-of-type {\n",
              "        vertical-align: middle;\n",
              "    }\n",
              "\n",
              "    .dataframe tbody tr th {\n",
              "        vertical-align: top;\n",
              "    }\n",
              "\n",
              "    .dataframe thead th {\n",
              "        text-align: right;\n",
              "    }\n",
              "</style>\n",
              "<table border=\"1\" class=\"dataframe\">\n",
              "  <thead>\n",
              "    <tr style=\"text-align: right;\">\n",
              "      <th></th>\n",
              "      <th>Title</th>\n",
              "      <th>Release Year</th>\n",
              "      <th>Genre</th>\n",
              "      <th>Imdb Rating</th>\n",
              "      <th>Runtime</th>\n",
              "      <th>Age Rating</th>\n",
              "      <th>Country origin</th>\n",
              "      <th>Url</th>\n",
              "      <th>Streaming Provider</th>\n",
              "      <th>Type</th>\n",
              "    </tr>\n",
              "  </thead>\n",
              "  <tbody>\n",
              "    <tr>\n",
              "      <th>0</th>\n",
              "      <td>Mirzapur</td>\n",
              "      <td>2018</td>\n",
              "      <td>Crime, Action &amp; Adventure, Drama, Mystery &amp; Th...</td>\n",
              "      <td>8.5</td>\n",
              "      <td>50min</td>\n",
              "      <td>NA</td>\n",
              "      <td>India</td>\n",
              "      <td>https://www.justwatch.com/in/tv-show/mirzapur</td>\n",
              "      <td>Amazon Prime Video</td>\n",
              "      <td>Tv Show</td>\n",
              "    </tr>\n",
              "    <tr>\n",
              "      <th>1</th>\n",
              "      <td>House of the Dragon</td>\n",
              "      <td>2022</td>\n",
              "      <td>Action &amp; Adventure, Science-Fiction, Drama, Fa...</td>\n",
              "      <td>8.4</td>\n",
              "      <td>1h 0min</td>\n",
              "      <td>A</td>\n",
              "      <td>United States</td>\n",
              "      <td>https://www.justwatch.com/in/tv-show/house-of-...</td>\n",
              "      <td>Jio Cinema</td>\n",
              "      <td>Tv Show</td>\n",
              "    </tr>\n",
              "    <tr>\n",
              "      <th>2</th>\n",
              "      <td>Panchayat</td>\n",
              "      <td>2020</td>\n",
              "      <td>Drama, Comedy</td>\n",
              "      <td>9.0</td>\n",
              "      <td>35min</td>\n",
              "      <td>NA</td>\n",
              "      <td>India</td>\n",
              "      <td>https://www.justwatch.com/in/tv-show/panchayat</td>\n",
              "      <td>Amazon Prime Video</td>\n",
              "      <td>Tv Show</td>\n",
              "    </tr>\n",
              "    <tr>\n",
              "      <th>3</th>\n",
              "      <td>The Boys</td>\n",
              "      <td>2019</td>\n",
              "      <td>Science-Fiction, Action &amp; Adventure, Comedy, C...</td>\n",
              "      <td>8.7</td>\n",
              "      <td>1h 1min</td>\n",
              "      <td>A</td>\n",
              "      <td>United States</td>\n",
              "      <td>https://www.justwatch.com/in/tv-show/the-boys</td>\n",
              "      <td>Amazon Prime Video</td>\n",
              "      <td>Tv Show</td>\n",
              "    </tr>\n",
              "    <tr>\n",
              "      <th>4</th>\n",
              "      <td>Kota Factory</td>\n",
              "      <td>2019</td>\n",
              "      <td>Comedy, Drama</td>\n",
              "      <td>9.0</td>\n",
              "      <td>43min</td>\n",
              "      <td>NA</td>\n",
              "      <td>India</td>\n",
              "      <td>https://www.justwatch.com/in/tv-show/kota-factory</td>\n",
              "      <td>Netflix</td>\n",
              "      <td>Tv Show</td>\n",
              "    </tr>\n",
              "  </tbody>\n",
              "</table>\n",
              "</div>\n",
              "    <div class=\"colab-df-buttons\">\n",
              "\n",
              "  <div class=\"colab-df-container\">\n",
              "    <button class=\"colab-df-convert\" onclick=\"convertToInteractive('df-efc6623a-5fab-4e1c-9463-f6dc0063a420')\"\n",
              "            title=\"Convert this dataframe to an interactive table.\"\n",
              "            style=\"display:none;\">\n",
              "\n",
              "  <svg xmlns=\"http://www.w3.org/2000/svg\" height=\"24px\" viewBox=\"0 -960 960 960\">\n",
              "    <path d=\"M120-120v-720h720v720H120Zm60-500h600v-160H180v160Zm220 220h160v-160H400v160Zm0 220h160v-160H400v160ZM180-400h160v-160H180v160Zm440 0h160v-160H620v160ZM180-180h160v-160H180v160Zm440 0h160v-160H620v160Z\"/>\n",
              "  </svg>\n",
              "    </button>\n",
              "\n",
              "  <style>\n",
              "    .colab-df-container {\n",
              "      display:flex;\n",
              "      gap: 12px;\n",
              "    }\n",
              "\n",
              "    .colab-df-convert {\n",
              "      background-color: #E8F0FE;\n",
              "      border: none;\n",
              "      border-radius: 50%;\n",
              "      cursor: pointer;\n",
              "      display: none;\n",
              "      fill: #1967D2;\n",
              "      height: 32px;\n",
              "      padding: 0 0 0 0;\n",
              "      width: 32px;\n",
              "    }\n",
              "\n",
              "    .colab-df-convert:hover {\n",
              "      background-color: #E2EBFA;\n",
              "      box-shadow: 0px 1px 2px rgba(60, 64, 67, 0.3), 0px 1px 3px 1px rgba(60, 64, 67, 0.15);\n",
              "      fill: #174EA6;\n",
              "    }\n",
              "\n",
              "    .colab-df-buttons div {\n",
              "      margin-bottom: 4px;\n",
              "    }\n",
              "\n",
              "    [theme=dark] .colab-df-convert {\n",
              "      background-color: #3B4455;\n",
              "      fill: #D2E3FC;\n",
              "    }\n",
              "\n",
              "    [theme=dark] .colab-df-convert:hover {\n",
              "      background-color: #434B5C;\n",
              "      box-shadow: 0px 1px 3px 1px rgba(0, 0, 0, 0.15);\n",
              "      filter: drop-shadow(0px 1px 2px rgba(0, 0, 0, 0.3));\n",
              "      fill: #FFFFFF;\n",
              "    }\n",
              "  </style>\n",
              "\n",
              "    <script>\n",
              "      const buttonEl =\n",
              "        document.querySelector('#df-efc6623a-5fab-4e1c-9463-f6dc0063a420 button.colab-df-convert');\n",
              "      buttonEl.style.display =\n",
              "        google.colab.kernel.accessAllowed ? 'block' : 'none';\n",
              "\n",
              "      async function convertToInteractive(key) {\n",
              "        const element = document.querySelector('#df-efc6623a-5fab-4e1c-9463-f6dc0063a420');\n",
              "        const dataTable =\n",
              "          await google.colab.kernel.invokeFunction('convertToInteractive',\n",
              "                                                    [key], {});\n",
              "        if (!dataTable) return;\n",
              "\n",
              "        const docLinkHtml = 'Like what you see? Visit the ' +\n",
              "          '<a target=\"_blank\" href=https://colab.research.google.com/notebooks/data_table.ipynb>data table notebook</a>'\n",
              "          + ' to learn more about interactive tables.';\n",
              "        element.innerHTML = '';\n",
              "        dataTable['output_type'] = 'display_data';\n",
              "        await google.colab.output.renderOutput(dataTable, element);\n",
              "        const docLink = document.createElement('div');\n",
              "        docLink.innerHTML = docLinkHtml;\n",
              "        element.appendChild(docLink);\n",
              "      }\n",
              "    </script>\n",
              "  </div>\n",
              "\n",
              "\n",
              "<div id=\"df-da3edd26-cace-4a79-9178-f9949a3a22b4\">\n",
              "  <button class=\"colab-df-quickchart\" onclick=\"quickchart('df-da3edd26-cace-4a79-9178-f9949a3a22b4')\"\n",
              "            title=\"Suggest charts\"\n",
              "            style=\"display:none;\">\n",
              "\n",
              "<svg xmlns=\"http://www.w3.org/2000/svg\" height=\"24px\"viewBox=\"0 0 24 24\"\n",
              "     width=\"24px\">\n",
              "    <g>\n",
              "        <path d=\"M19 3H5c-1.1 0-2 .9-2 2v14c0 1.1.9 2 2 2h14c1.1 0 2-.9 2-2V5c0-1.1-.9-2-2-2zM9 17H7v-7h2v7zm4 0h-2V7h2v10zm4 0h-2v-4h2v4z\"/>\n",
              "    </g>\n",
              "</svg>\n",
              "  </button>\n",
              "\n",
              "<style>\n",
              "  .colab-df-quickchart {\n",
              "      --bg-color: #E8F0FE;\n",
              "      --fill-color: #1967D2;\n",
              "      --hover-bg-color: #E2EBFA;\n",
              "      --hover-fill-color: #174EA6;\n",
              "      --disabled-fill-color: #AAA;\n",
              "      --disabled-bg-color: #DDD;\n",
              "  }\n",
              "\n",
              "  [theme=dark] .colab-df-quickchart {\n",
              "      --bg-color: #3B4455;\n",
              "      --fill-color: #D2E3FC;\n",
              "      --hover-bg-color: #434B5C;\n",
              "      --hover-fill-color: #FFFFFF;\n",
              "      --disabled-bg-color: #3B4455;\n",
              "      --disabled-fill-color: #666;\n",
              "  }\n",
              "\n",
              "  .colab-df-quickchart {\n",
              "    background-color: var(--bg-color);\n",
              "    border: none;\n",
              "    border-radius: 50%;\n",
              "    cursor: pointer;\n",
              "    display: none;\n",
              "    fill: var(--fill-color);\n",
              "    height: 32px;\n",
              "    padding: 0;\n",
              "    width: 32px;\n",
              "  }\n",
              "\n",
              "  .colab-df-quickchart:hover {\n",
              "    background-color: var(--hover-bg-color);\n",
              "    box-shadow: 0 1px 2px rgba(60, 64, 67, 0.3), 0 1px 3px 1px rgba(60, 64, 67, 0.15);\n",
              "    fill: var(--button-hover-fill-color);\n",
              "  }\n",
              "\n",
              "  .colab-df-quickchart-complete:disabled,\n",
              "  .colab-df-quickchart-complete:disabled:hover {\n",
              "    background-color: var(--disabled-bg-color);\n",
              "    fill: var(--disabled-fill-color);\n",
              "    box-shadow: none;\n",
              "  }\n",
              "\n",
              "  .colab-df-spinner {\n",
              "    border: 2px solid var(--fill-color);\n",
              "    border-color: transparent;\n",
              "    border-bottom-color: var(--fill-color);\n",
              "    animation:\n",
              "      spin 1s steps(1) infinite;\n",
              "  }\n",
              "\n",
              "  @keyframes spin {\n",
              "    0% {\n",
              "      border-color: transparent;\n",
              "      border-bottom-color: var(--fill-color);\n",
              "      border-left-color: var(--fill-color);\n",
              "    }\n",
              "    20% {\n",
              "      border-color: transparent;\n",
              "      border-left-color: var(--fill-color);\n",
              "      border-top-color: var(--fill-color);\n",
              "    }\n",
              "    30% {\n",
              "      border-color: transparent;\n",
              "      border-left-color: var(--fill-color);\n",
              "      border-top-color: var(--fill-color);\n",
              "      border-right-color: var(--fill-color);\n",
              "    }\n",
              "    40% {\n",
              "      border-color: transparent;\n",
              "      border-right-color: var(--fill-color);\n",
              "      border-top-color: var(--fill-color);\n",
              "    }\n",
              "    60% {\n",
              "      border-color: transparent;\n",
              "      border-right-color: var(--fill-color);\n",
              "    }\n",
              "    80% {\n",
              "      border-color: transparent;\n",
              "      border-right-color: var(--fill-color);\n",
              "      border-bottom-color: var(--fill-color);\n",
              "    }\n",
              "    90% {\n",
              "      border-color: transparent;\n",
              "      border-bottom-color: var(--fill-color);\n",
              "    }\n",
              "  }\n",
              "</style>\n",
              "\n",
              "  <script>\n",
              "    async function quickchart(key) {\n",
              "      const quickchartButtonEl =\n",
              "        document.querySelector('#' + key + ' button');\n",
              "      quickchartButtonEl.disabled = true;  // To prevent multiple clicks.\n",
              "      quickchartButtonEl.classList.add('colab-df-spinner');\n",
              "      try {\n",
              "        const charts = await google.colab.kernel.invokeFunction(\n",
              "            'suggestCharts', [key], {});\n",
              "      } catch (error) {\n",
              "        console.error('Error during call to suggestCharts:', error);\n",
              "      }\n",
              "      quickchartButtonEl.classList.remove('colab-df-spinner');\n",
              "      quickchartButtonEl.classList.add('colab-df-quickchart-complete');\n",
              "    }\n",
              "    (() => {\n",
              "      let quickchartButtonEl =\n",
              "        document.querySelector('#df-da3edd26-cace-4a79-9178-f9949a3a22b4 button');\n",
              "      quickchartButtonEl.style.display =\n",
              "        google.colab.kernel.accessAllowed ? 'block' : 'none';\n",
              "    })();\n",
              "  </script>\n",
              "</div>\n",
              "\n",
              "    </div>\n",
              "  </div>\n"
            ],
            "application/vnd.google.colaboratory.intrinsic+json": {
              "type": "dataframe",
              "variable_name": "Tv_Shows_df",
              "summary": "{\n  \"name\": \"Tv_Shows_df\",\n  \"rows\": 100,\n  \"fields\": [\n    {\n      \"column\": \"Title\",\n      \"properties\": {\n        \"dtype\": \"string\",\n        \"num_unique_values\": 100,\n        \"samples\": [\n          \" Spartacus \",\n          \" The Walking Dead: The Ones Who Live \",\n          \" Vikings \"\n        ],\n        \"semantic_type\": \"\",\n        \"description\": \"\"\n      }\n    },\n    {\n      \"column\": \"Release Year\",\n      \"properties\": {\n        \"dtype\": \"object\",\n        \"num_unique_values\": 21,\n        \"samples\": [\n          \"2018\",\n          \"2002\",\n          \"2010\"\n        ],\n        \"semantic_type\": \"\",\n        \"description\": \"\"\n      }\n    },\n    {\n      \"column\": \"Genre\",\n      \"properties\": {\n        \"dtype\": \"string\",\n        \"num_unique_values\": 74,\n        \"samples\": [\n          \"Comedy, Drama\",\n          \"Action & Adventure, Science-Fiction, Comedy, Drama, Fantasy, Animation\",\n          \"Crime, Drama, Mystery & Thriller\"\n        ],\n        \"semantic_type\": \"\",\n        \"description\": \"\"\n      }\n    },\n    {\n      \"column\": \"Imdb Rating\",\n      \"properties\": {\n        \"dtype\": \"category\",\n        \"num_unique_values\": 38,\n        \"samples\": [\n          \"5.8\",\n          \"6.6\",\n          \"8.6\"\n        ],\n        \"semantic_type\": \"\",\n        \"description\": \"\"\n      }\n    },\n    {\n      \"column\": \"Runtime\",\n      \"properties\": {\n        \"dtype\": \"category\",\n        \"num_unique_values\": 43,\n        \"samples\": [\n          \"57min\",\n          \"1h 16min\",\n          \"1h 23min\"\n        ],\n        \"semantic_type\": \"\",\n        \"description\": \"\"\n      }\n    },\n    {\n      \"column\": \"Age Rating\",\n      \"properties\": {\n        \"dtype\": \"category\",\n        \"num_unique_values\": 4,\n        \"samples\": [\n          \"A\",\n          \"UA\",\n          \"NA\"\n        ],\n        \"semantic_type\": \"\",\n        \"description\": \"\"\n      }\n    },\n    {\n      \"column\": \"Country origin\",\n      \"properties\": {\n        \"dtype\": \"category\",\n        \"num_unique_values\": 13,\n        \"samples\": [\n          \"United States, India\",\n          \"China\",\n          \"India\"\n        ],\n        \"semantic_type\": \"\",\n        \"description\": \"\"\n      }\n    },\n    {\n      \"column\": \"Url\",\n      \"properties\": {\n        \"dtype\": \"string\",\n        \"num_unique_values\": 100,\n        \"samples\": [\n          \"https://www.justwatch.com/in/tv-show/spartacus\",\n          \"https://www.justwatch.com/in/tv-show/the-walking-dead-the-ones-who-live\",\n          \"https://www.justwatch.com/in/tv-show/vikings\"\n        ],\n        \"semantic_type\": \"\",\n        \"description\": \"\"\n      }\n    },\n    {\n      \"column\": \"Streaming Provider\",\n      \"properties\": {\n        \"dtype\": \"category\",\n        \"num_unique_values\": 27,\n        \"samples\": [\n          \"Apple TV+\",\n          \"Zee5,VI movies and tv\",\n          \"MX Player\"\n        ],\n        \"semantic_type\": \"\",\n        \"description\": \"\"\n      }\n    },\n    {\n      \"column\": \"Type\",\n      \"properties\": {\n        \"dtype\": \"category\",\n        \"num_unique_values\": 1,\n        \"samples\": [\n          \"Tv Show\"\n        ],\n        \"semantic_type\": \"\",\n        \"description\": \"\"\n      }\n    }\n  ]\n}"
            }
          },
          "metadata": {},
          "execution_count": 49
        }
      ]
    },
    {
      "cell_type": "code",
      "source": [
        "##Final Data\n",
        "final_data_df = pd.concat([Movies_df,Tv_Shows_df])\n",
        "final_data_df.head()"
      ],
      "metadata": {
        "colab": {
          "base_uri": "https://localhost:8080/"
        },
        "id": "E9fuvAWsAdRr",
        "outputId": "042af20b-7233-495a-9422-147994a98658"
      },
      "execution_count": null,
      "outputs": [
        {
          "output_type": "execute_result",
          "data": {
            "text/plain": [
              "                                Title Release Year  \\\n",
              "0                      Kalki 2898 AD         2024    \n",
              "1                             Munjya         2024    \n",
              "2                           Aavesham         2024    \n",
              "3                           Maharaja         2024    \n",
              "4   The Gangster, the Cop, the Devil         2019    \n",
              "\n",
              "                                               Genre Imdb Rating   Runtime  \\\n",
              "0  Science-Fiction, Drama, Action & Adventure, Fa...         7.7   3h 1min   \n",
              "1                                     Comedy, Horror         7.2   2h 3min   \n",
              "2                         Comedy, Action & Adventure         7.9  2h 38min   \n",
              "3      Action & Adventure, Drama, Mystery & Thriller         8.7  2h 30min   \n",
              "4      Crime, Action & Adventure, Mystery & Thriller         6.9  1h 50min   \n",
              "\n",
              "  Age Rating Country origin  Streaming Provider  \\\n",
              "0         UA          India          Bookmyshow   \n",
              "1         NA          India          Bookmyshow   \n",
              "2         NA          India  Amazon Prime Video   \n",
              "3         NA          India             Netflix   \n",
              "4         NA    South Korea      Lionsgate Play   \n",
              "\n",
              "                                                 Url   Type  \n",
              "0       https://www.justwatch.com/in/movie/project-k  Movie  \n",
              "1          https://www.justwatch.com/in/movie/munjha  Movie  \n",
              "2   https://www.justwatch.com/in/movie/aavesham-2024  Movie  \n",
              "3   https://www.justwatch.com/in/movie/maharaja-2024  Movie  \n",
              "4  https://www.justwatch.com/in/movie/the-gangste...  Movie  "
            ],
            "text/html": [
              "\n",
              "  <div id=\"df-c1a02ab8-d997-4c38-9677-67c2fc9111ff\" class=\"colab-df-container\">\n",
              "    <div>\n",
              "<style scoped>\n",
              "    .dataframe tbody tr th:only-of-type {\n",
              "        vertical-align: middle;\n",
              "    }\n",
              "\n",
              "    .dataframe tbody tr th {\n",
              "        vertical-align: top;\n",
              "    }\n",
              "\n",
              "    .dataframe thead th {\n",
              "        text-align: right;\n",
              "    }\n",
              "</style>\n",
              "<table border=\"1\" class=\"dataframe\">\n",
              "  <thead>\n",
              "    <tr style=\"text-align: right;\">\n",
              "      <th></th>\n",
              "      <th>Title</th>\n",
              "      <th>Release Year</th>\n",
              "      <th>Genre</th>\n",
              "      <th>Imdb Rating</th>\n",
              "      <th>Runtime</th>\n",
              "      <th>Age Rating</th>\n",
              "      <th>Country origin</th>\n",
              "      <th>Streaming Provider</th>\n",
              "      <th>Url</th>\n",
              "      <th>Type</th>\n",
              "    </tr>\n",
              "  </thead>\n",
              "  <tbody>\n",
              "    <tr>\n",
              "      <th>0</th>\n",
              "      <td>Kalki 2898 AD</td>\n",
              "      <td>2024</td>\n",
              "      <td>Science-Fiction, Drama, Action &amp; Adventure, Fa...</td>\n",
              "      <td>7.7</td>\n",
              "      <td>3h 1min</td>\n",
              "      <td>UA</td>\n",
              "      <td>India</td>\n",
              "      <td>Bookmyshow</td>\n",
              "      <td>https://www.justwatch.com/in/movie/project-k</td>\n",
              "      <td>Movie</td>\n",
              "    </tr>\n",
              "    <tr>\n",
              "      <th>1</th>\n",
              "      <td>Munjya</td>\n",
              "      <td>2024</td>\n",
              "      <td>Comedy, Horror</td>\n",
              "      <td>7.2</td>\n",
              "      <td>2h 3min</td>\n",
              "      <td>NA</td>\n",
              "      <td>India</td>\n",
              "      <td>Bookmyshow</td>\n",
              "      <td>https://www.justwatch.com/in/movie/munjha</td>\n",
              "      <td>Movie</td>\n",
              "    </tr>\n",
              "    <tr>\n",
              "      <th>2</th>\n",
              "      <td>Aavesham</td>\n",
              "      <td>2024</td>\n",
              "      <td>Comedy, Action &amp; Adventure</td>\n",
              "      <td>7.9</td>\n",
              "      <td>2h 38min</td>\n",
              "      <td>NA</td>\n",
              "      <td>India</td>\n",
              "      <td>Amazon Prime Video</td>\n",
              "      <td>https://www.justwatch.com/in/movie/aavesham-2024</td>\n",
              "      <td>Movie</td>\n",
              "    </tr>\n",
              "    <tr>\n",
              "      <th>3</th>\n",
              "      <td>Maharaja</td>\n",
              "      <td>2024</td>\n",
              "      <td>Action &amp; Adventure, Drama, Mystery &amp; Thriller</td>\n",
              "      <td>8.7</td>\n",
              "      <td>2h 30min</td>\n",
              "      <td>NA</td>\n",
              "      <td>India</td>\n",
              "      <td>Netflix</td>\n",
              "      <td>https://www.justwatch.com/in/movie/maharaja-2024</td>\n",
              "      <td>Movie</td>\n",
              "    </tr>\n",
              "    <tr>\n",
              "      <th>4</th>\n",
              "      <td>The Gangster, the Cop, the Devil</td>\n",
              "      <td>2019</td>\n",
              "      <td>Crime, Action &amp; Adventure, Mystery &amp; Thriller</td>\n",
              "      <td>6.9</td>\n",
              "      <td>1h 50min</td>\n",
              "      <td>NA</td>\n",
              "      <td>South Korea</td>\n",
              "      <td>Lionsgate Play</td>\n",
              "      <td>https://www.justwatch.com/in/movie/the-gangste...</td>\n",
              "      <td>Movie</td>\n",
              "    </tr>\n",
              "  </tbody>\n",
              "</table>\n",
              "</div>\n",
              "    <div class=\"colab-df-buttons\">\n",
              "\n",
              "  <div class=\"colab-df-container\">\n",
              "    <button class=\"colab-df-convert\" onclick=\"convertToInteractive('df-c1a02ab8-d997-4c38-9677-67c2fc9111ff')\"\n",
              "            title=\"Convert this dataframe to an interactive table.\"\n",
              "            style=\"display:none;\">\n",
              "\n",
              "  <svg xmlns=\"http://www.w3.org/2000/svg\" height=\"24px\" viewBox=\"0 -960 960 960\">\n",
              "    <path d=\"M120-120v-720h720v720H120Zm60-500h600v-160H180v160Zm220 220h160v-160H400v160Zm0 220h160v-160H400v160ZM180-400h160v-160H180v160Zm440 0h160v-160H620v160ZM180-180h160v-160H180v160Zm440 0h160v-160H620v160Z\"/>\n",
              "  </svg>\n",
              "    </button>\n",
              "\n",
              "  <style>\n",
              "    .colab-df-container {\n",
              "      display:flex;\n",
              "      gap: 12px;\n",
              "    }\n",
              "\n",
              "    .colab-df-convert {\n",
              "      background-color: #E8F0FE;\n",
              "      border: none;\n",
              "      border-radius: 50%;\n",
              "      cursor: pointer;\n",
              "      display: none;\n",
              "      fill: #1967D2;\n",
              "      height: 32px;\n",
              "      padding: 0 0 0 0;\n",
              "      width: 32px;\n",
              "    }\n",
              "\n",
              "    .colab-df-convert:hover {\n",
              "      background-color: #E2EBFA;\n",
              "      box-shadow: 0px 1px 2px rgba(60, 64, 67, 0.3), 0px 1px 3px 1px rgba(60, 64, 67, 0.15);\n",
              "      fill: #174EA6;\n",
              "    }\n",
              "\n",
              "    .colab-df-buttons div {\n",
              "      margin-bottom: 4px;\n",
              "    }\n",
              "\n",
              "    [theme=dark] .colab-df-convert {\n",
              "      background-color: #3B4455;\n",
              "      fill: #D2E3FC;\n",
              "    }\n",
              "\n",
              "    [theme=dark] .colab-df-convert:hover {\n",
              "      background-color: #434B5C;\n",
              "      box-shadow: 0px 1px 3px 1px rgba(0, 0, 0, 0.15);\n",
              "      filter: drop-shadow(0px 1px 2px rgba(0, 0, 0, 0.3));\n",
              "      fill: #FFFFFF;\n",
              "    }\n",
              "  </style>\n",
              "\n",
              "    <script>\n",
              "      const buttonEl =\n",
              "        document.querySelector('#df-c1a02ab8-d997-4c38-9677-67c2fc9111ff button.colab-df-convert');\n",
              "      buttonEl.style.display =\n",
              "        google.colab.kernel.accessAllowed ? 'block' : 'none';\n",
              "\n",
              "      async function convertToInteractive(key) {\n",
              "        const element = document.querySelector('#df-c1a02ab8-d997-4c38-9677-67c2fc9111ff');\n",
              "        const dataTable =\n",
              "          await google.colab.kernel.invokeFunction('convertToInteractive',\n",
              "                                                    [key], {});\n",
              "        if (!dataTable) return;\n",
              "\n",
              "        const docLinkHtml = 'Like what you see? Visit the ' +\n",
              "          '<a target=\"_blank\" href=https://colab.research.google.com/notebooks/data_table.ipynb>data table notebook</a>'\n",
              "          + ' to learn more about interactive tables.';\n",
              "        element.innerHTML = '';\n",
              "        dataTable['output_type'] = 'display_data';\n",
              "        await google.colab.output.renderOutput(dataTable, element);\n",
              "        const docLink = document.createElement('div');\n",
              "        docLink.innerHTML = docLinkHtml;\n",
              "        element.appendChild(docLink);\n",
              "      }\n",
              "    </script>\n",
              "  </div>\n",
              "\n",
              "\n",
              "<div id=\"df-3385fef2-4199-4024-ad99-383f72307ea5\">\n",
              "  <button class=\"colab-df-quickchart\" onclick=\"quickchart('df-3385fef2-4199-4024-ad99-383f72307ea5')\"\n",
              "            title=\"Suggest charts\"\n",
              "            style=\"display:none;\">\n",
              "\n",
              "<svg xmlns=\"http://www.w3.org/2000/svg\" height=\"24px\"viewBox=\"0 0 24 24\"\n",
              "     width=\"24px\">\n",
              "    <g>\n",
              "        <path d=\"M19 3H5c-1.1 0-2 .9-2 2v14c0 1.1.9 2 2 2h14c1.1 0 2-.9 2-2V5c0-1.1-.9-2-2-2zM9 17H7v-7h2v7zm4 0h-2V7h2v10zm4 0h-2v-4h2v4z\"/>\n",
              "    </g>\n",
              "</svg>\n",
              "  </button>\n",
              "\n",
              "<style>\n",
              "  .colab-df-quickchart {\n",
              "      --bg-color: #E8F0FE;\n",
              "      --fill-color: #1967D2;\n",
              "      --hover-bg-color: #E2EBFA;\n",
              "      --hover-fill-color: #174EA6;\n",
              "      --disabled-fill-color: #AAA;\n",
              "      --disabled-bg-color: #DDD;\n",
              "  }\n",
              "\n",
              "  [theme=dark] .colab-df-quickchart {\n",
              "      --bg-color: #3B4455;\n",
              "      --fill-color: #D2E3FC;\n",
              "      --hover-bg-color: #434B5C;\n",
              "      --hover-fill-color: #FFFFFF;\n",
              "      --disabled-bg-color: #3B4455;\n",
              "      --disabled-fill-color: #666;\n",
              "  }\n",
              "\n",
              "  .colab-df-quickchart {\n",
              "    background-color: var(--bg-color);\n",
              "    border: none;\n",
              "    border-radius: 50%;\n",
              "    cursor: pointer;\n",
              "    display: none;\n",
              "    fill: var(--fill-color);\n",
              "    height: 32px;\n",
              "    padding: 0;\n",
              "    width: 32px;\n",
              "  }\n",
              "\n",
              "  .colab-df-quickchart:hover {\n",
              "    background-color: var(--hover-bg-color);\n",
              "    box-shadow: 0 1px 2px rgba(60, 64, 67, 0.3), 0 1px 3px 1px rgba(60, 64, 67, 0.15);\n",
              "    fill: var(--button-hover-fill-color);\n",
              "  }\n",
              "\n",
              "  .colab-df-quickchart-complete:disabled,\n",
              "  .colab-df-quickchart-complete:disabled:hover {\n",
              "    background-color: var(--disabled-bg-color);\n",
              "    fill: var(--disabled-fill-color);\n",
              "    box-shadow: none;\n",
              "  }\n",
              "\n",
              "  .colab-df-spinner {\n",
              "    border: 2px solid var(--fill-color);\n",
              "    border-color: transparent;\n",
              "    border-bottom-color: var(--fill-color);\n",
              "    animation:\n",
              "      spin 1s steps(1) infinite;\n",
              "  }\n",
              "\n",
              "  @keyframes spin {\n",
              "    0% {\n",
              "      border-color: transparent;\n",
              "      border-bottom-color: var(--fill-color);\n",
              "      border-left-color: var(--fill-color);\n",
              "    }\n",
              "    20% {\n",
              "      border-color: transparent;\n",
              "      border-left-color: var(--fill-color);\n",
              "      border-top-color: var(--fill-color);\n",
              "    }\n",
              "    30% {\n",
              "      border-color: transparent;\n",
              "      border-left-color: var(--fill-color);\n",
              "      border-top-color: var(--fill-color);\n",
              "      border-right-color: var(--fill-color);\n",
              "    }\n",
              "    40% {\n",
              "      border-color: transparent;\n",
              "      border-right-color: var(--fill-color);\n",
              "      border-top-color: var(--fill-color);\n",
              "    }\n",
              "    60% {\n",
              "      border-color: transparent;\n",
              "      border-right-color: var(--fill-color);\n",
              "    }\n",
              "    80% {\n",
              "      border-color: transparent;\n",
              "      border-right-color: var(--fill-color);\n",
              "      border-bottom-color: var(--fill-color);\n",
              "    }\n",
              "    90% {\n",
              "      border-color: transparent;\n",
              "      border-bottom-color: var(--fill-color);\n",
              "    }\n",
              "  }\n",
              "</style>\n",
              "\n",
              "  <script>\n",
              "    async function quickchart(key) {\n",
              "      const quickchartButtonEl =\n",
              "        document.querySelector('#' + key + ' button');\n",
              "      quickchartButtonEl.disabled = true;  // To prevent multiple clicks.\n",
              "      quickchartButtonEl.classList.add('colab-df-spinner');\n",
              "      try {\n",
              "        const charts = await google.colab.kernel.invokeFunction(\n",
              "            'suggestCharts', [key], {});\n",
              "      } catch (error) {\n",
              "        console.error('Error during call to suggestCharts:', error);\n",
              "      }\n",
              "      quickchartButtonEl.classList.remove('colab-df-spinner');\n",
              "      quickchartButtonEl.classList.add('colab-df-quickchart-complete');\n",
              "    }\n",
              "    (() => {\n",
              "      let quickchartButtonEl =\n",
              "        document.querySelector('#df-3385fef2-4199-4024-ad99-383f72307ea5 button');\n",
              "      quickchartButtonEl.style.display =\n",
              "        google.colab.kernel.accessAllowed ? 'block' : 'none';\n",
              "    })();\n",
              "  </script>\n",
              "</div>\n",
              "\n",
              "    </div>\n",
              "  </div>\n"
            ],
            "application/vnd.google.colaboratory.intrinsic+json": {
              "type": "dataframe",
              "variable_name": "final_data_df",
              "summary": "{\n  \"name\": \"final_data_df\",\n  \"rows\": 210,\n  \"fields\": [\n    {\n      \"column\": \"Title\",\n      \"properties\": {\n        \"dtype\": \"string\",\n        \"num_unique_values\": 205,\n        \"samples\": [\n          \" Laapataa Ladies \",\n          \" Godzilla Minus One \",\n          \" Find Me Falling \"\n        ],\n        \"semantic_type\": \"\",\n        \"description\": \"\"\n      }\n    },\n    {\n      \"column\": \"Release Year\",\n      \"properties\": {\n        \"dtype\": \"date\",\n        \"min\": \" 2001 \",\n        \"max\": \"2024\",\n        \"num_unique_values\": 35,\n        \"samples\": [\n          \"2006\",\n          \" 2017 \",\n          \"2008\"\n        ],\n        \"semantic_type\": \"\",\n        \"description\": \"\"\n      }\n    },\n    {\n      \"column\": \"Genre\",\n      \"properties\": {\n        \"dtype\": \"string\",\n        \"num_unique_values\": 147,\n        \"samples\": [\n          \"Romance, Comedy, Drama\",\n          \"Mystery & Thriller, Drama, Horror, Science-Fiction\",\n          \"Action & Adventure, Science-Fiction, Comedy, Drama, Fantasy, Animation\"\n        ],\n        \"semantic_type\": \"\",\n        \"description\": \"\"\n      }\n    },\n    {\n      \"column\": \"Imdb Rating\",\n      \"properties\": {\n        \"dtype\": \"category\",\n        \"num_unique_values\": 53,\n        \"samples\": [\n          \"6.7\",\n          \"9.1\",\n          \"3.5\"\n        ],\n        \"semantic_type\": \"\",\n        \"description\": \"\"\n      }\n    },\n    {\n      \"column\": \"Runtime\",\n      \"properties\": {\n        \"dtype\": \"string\",\n        \"num_unique_values\": 110,\n        \"samples\": [\n          \"49min\",\n          \"2h 56min\",\n          \"1h 50min\"\n        ],\n        \"semantic_type\": \"\",\n        \"description\": \"\"\n      }\n    },\n    {\n      \"column\": \"Age Rating\",\n      \"properties\": {\n        \"dtype\": \"category\",\n        \"num_unique_values\": 4,\n        \"samples\": [\n          \"NA\",\n          \"U\",\n          \"UA\"\n        ],\n        \"semantic_type\": \"\",\n        \"description\": \"\"\n      }\n    },\n    {\n      \"column\": \"Country origin\",\n      \"properties\": {\n        \"dtype\": \"category\",\n        \"num_unique_values\": 28,\n        \"samples\": [\n          \"Poland\",\n          \"Canada\",\n          \"United States, United Kingdom\"\n        ],\n        \"semantic_type\": \"\",\n        \"description\": \"\"\n      }\n    },\n    {\n      \"column\": \"Streaming Provider\",\n      \"properties\": {\n        \"dtype\": \"category\",\n        \"num_unique_values\": 37,\n        \"samples\": [\n          \"Netflix,Crunchyroll,Crunchyroll Amazon Channel\",\n          \"Lionsgate Play,Lionsgate Play Apple TV Channel,Lionsgate Play Amazon Channel\",\n          \"Apple TV\"\n        ],\n        \"semantic_type\": \"\",\n        \"description\": \"\"\n      }\n    },\n    {\n      \"column\": \"Url\",\n      \"properties\": {\n        \"dtype\": \"string\",\n        \"num_unique_values\": 205,\n        \"samples\": [\n          \"https://www.justwatch.com/in/movie/laapataa-ladies\",\n          \"https://www.justwatch.com/in/movie/godzilla-minus-one\",\n          \"https://www.justwatch.com/in/movie/find-me-falling\"\n        ],\n        \"semantic_type\": \"\",\n        \"description\": \"\"\n      }\n    },\n    {\n      \"column\": \"Type\",\n      \"properties\": {\n        \"dtype\": \"category\",\n        \"num_unique_values\": 2,\n        \"samples\": [\n          \"Tv Show\",\n          \"Movie\"\n        ],\n        \"semantic_type\": \"\",\n        \"description\": \"\"\n      }\n    }\n  ]\n}"
            }
          },
          "metadata": {},
          "execution_count": 50
        }
      ]
    },
    {
      "cell_type": "markdown",
      "source": [
        "## **Task 2 :- Data Filtering & Analysis**"
      ],
      "metadata": {
        "id": "CyqHHKh4IDx6"
      }
    },
    {
      "cell_type": "code",
      "source": [
        "# Dataset Rows & Columns count\n",
        "final_data_df.shape"
      ],
      "metadata": {
        "colab": {
          "base_uri": "https://localhost:8080/"
        },
        "id": "Y5nh8jKbCVci",
        "outputId": "f7351b50-c9e5-48a9-bc18-0dcb6709787c"
      },
      "execution_count": null,
      "outputs": [
        {
          "output_type": "execute_result",
          "data": {
            "text/plain": [
              "(210, 10)"
            ]
          },
          "metadata": {},
          "execution_count": 51
        }
      ]
    },
    {
      "cell_type": "code",
      "source": [
        "# Dataset datatype Info\n",
        "final_data_df.info()"
      ],
      "metadata": {
        "colab": {
          "base_uri": "https://localhost:8080/"
        },
        "id": "UsW29lQDCXhp",
        "outputId": "fbe81287-19a0-4646-81f6-1bd598bb0746"
      },
      "execution_count": null,
      "outputs": [
        {
          "output_type": "stream",
          "name": "stdout",
          "text": [
            "<class 'pandas.core.frame.DataFrame'>\n",
            "Index: 210 entries, 0 to 99\n",
            "Data columns (total 10 columns):\n",
            " #   Column              Non-Null Count  Dtype \n",
            "---  ------              --------------  ----- \n",
            " 0   Title               210 non-null    object\n",
            " 1   Release Year        210 non-null    object\n",
            " 2   Genre               210 non-null    object\n",
            " 3   Imdb Rating         200 non-null    object\n",
            " 4   Runtime             210 non-null    object\n",
            " 5   Age Rating          210 non-null    object\n",
            " 6   Country origin      210 non-null    object\n",
            " 7   Streaming Provider  210 non-null    object\n",
            " 8   Url                 210 non-null    object\n",
            " 9   Type                210 non-null    object\n",
            "dtypes: object(10)\n",
            "memory usage: 26.1+ KB\n"
          ]
        }
      ]
    },
    {
      "cell_type": "code",
      "source": [
        "# Dataset Duplicate Value Count\n",
        "\n",
        "print(\"Number of duplicate rows :\",final_data_df.duplicated().sum())"
      ],
      "metadata": {
        "colab": {
          "base_uri": "https://localhost:8080/"
        },
        "id": "HrPsnifqCfvo",
        "outputId": "9885fad6-931b-425e-ebc9-b23401c90a62"
      },
      "execution_count": null,
      "outputs": [
        {
          "output_type": "stream",
          "name": "stdout",
          "text": [
            "Number of duplicate rows : 4\n"
          ]
        }
      ]
    },
    {
      "cell_type": "code",
      "source": [
        "# Dataset Duplicate Value Count\n",
        "duplicates = final_data_df.duplicated()\n",
        "final_data_df[duplicates]"
      ],
      "metadata": {
        "colab": {
          "base_uri": "https://localhost:8080/"
        },
        "id": "hQIG0wq3CkUV",
        "outputId": "8cd05b96-77a6-45bd-c8ec-47b685699bda"
      },
      "execution_count": null,
      "outputs": [
        {
          "output_type": "execute_result",
          "data": {
            "text/plain": [
              "                                  Title Release Year  \\\n",
              "101                             Munjya         2024    \n",
              "102                           Aavesham         2024    \n",
              "103                           Maharaja         2024    \n",
              "104   The Gangster, the Cop, the Devil         2019    \n",
              "\n",
              "                                             Genre Imdb Rating   Runtime  \\\n",
              "101                                 Comedy, Horror         7.2   2h 3min   \n",
              "102                     Comedy, Action & Adventure         7.9  2h 38min   \n",
              "103  Action & Adventure, Drama, Mystery & Thriller         8.7  2h 30min   \n",
              "104  Crime, Action & Adventure, Mystery & Thriller         6.9  1h 50min   \n",
              "\n",
              "    Age Rating Country origin  Streaming Provider  \\\n",
              "101         NA          India          Bookmyshow   \n",
              "102         NA          India  Amazon Prime Video   \n",
              "103         NA          India             Netflix   \n",
              "104         NA    South Korea      Lionsgate Play   \n",
              "\n",
              "                                                   Url   Type  \n",
              "101          https://www.justwatch.com/in/movie/munjha  Movie  \n",
              "102   https://www.justwatch.com/in/movie/aavesham-2024  Movie  \n",
              "103   https://www.justwatch.com/in/movie/maharaja-2024  Movie  \n",
              "104  https://www.justwatch.com/in/movie/the-gangste...  Movie  "
            ],
            "text/html": [
              "\n",
              "  <div id=\"df-96bcb30f-7ca1-45c4-a266-487c264a7987\" class=\"colab-df-container\">\n",
              "    <div>\n",
              "<style scoped>\n",
              "    .dataframe tbody tr th:only-of-type {\n",
              "        vertical-align: middle;\n",
              "    }\n",
              "\n",
              "    .dataframe tbody tr th {\n",
              "        vertical-align: top;\n",
              "    }\n",
              "\n",
              "    .dataframe thead th {\n",
              "        text-align: right;\n",
              "    }\n",
              "</style>\n",
              "<table border=\"1\" class=\"dataframe\">\n",
              "  <thead>\n",
              "    <tr style=\"text-align: right;\">\n",
              "      <th></th>\n",
              "      <th>Title</th>\n",
              "      <th>Release Year</th>\n",
              "      <th>Genre</th>\n",
              "      <th>Imdb Rating</th>\n",
              "      <th>Runtime</th>\n",
              "      <th>Age Rating</th>\n",
              "      <th>Country origin</th>\n",
              "      <th>Streaming Provider</th>\n",
              "      <th>Url</th>\n",
              "      <th>Type</th>\n",
              "    </tr>\n",
              "  </thead>\n",
              "  <tbody>\n",
              "    <tr>\n",
              "      <th>101</th>\n",
              "      <td>Munjya</td>\n",
              "      <td>2024</td>\n",
              "      <td>Comedy, Horror</td>\n",
              "      <td>7.2</td>\n",
              "      <td>2h 3min</td>\n",
              "      <td>NA</td>\n",
              "      <td>India</td>\n",
              "      <td>Bookmyshow</td>\n",
              "      <td>https://www.justwatch.com/in/movie/munjha</td>\n",
              "      <td>Movie</td>\n",
              "    </tr>\n",
              "    <tr>\n",
              "      <th>102</th>\n",
              "      <td>Aavesham</td>\n",
              "      <td>2024</td>\n",
              "      <td>Comedy, Action &amp; Adventure</td>\n",
              "      <td>7.9</td>\n",
              "      <td>2h 38min</td>\n",
              "      <td>NA</td>\n",
              "      <td>India</td>\n",
              "      <td>Amazon Prime Video</td>\n",
              "      <td>https://www.justwatch.com/in/movie/aavesham-2024</td>\n",
              "      <td>Movie</td>\n",
              "    </tr>\n",
              "    <tr>\n",
              "      <th>103</th>\n",
              "      <td>Maharaja</td>\n",
              "      <td>2024</td>\n",
              "      <td>Action &amp; Adventure, Drama, Mystery &amp; Thriller</td>\n",
              "      <td>8.7</td>\n",
              "      <td>2h 30min</td>\n",
              "      <td>NA</td>\n",
              "      <td>India</td>\n",
              "      <td>Netflix</td>\n",
              "      <td>https://www.justwatch.com/in/movie/maharaja-2024</td>\n",
              "      <td>Movie</td>\n",
              "    </tr>\n",
              "    <tr>\n",
              "      <th>104</th>\n",
              "      <td>The Gangster, the Cop, the Devil</td>\n",
              "      <td>2019</td>\n",
              "      <td>Crime, Action &amp; Adventure, Mystery &amp; Thriller</td>\n",
              "      <td>6.9</td>\n",
              "      <td>1h 50min</td>\n",
              "      <td>NA</td>\n",
              "      <td>South Korea</td>\n",
              "      <td>Lionsgate Play</td>\n",
              "      <td>https://www.justwatch.com/in/movie/the-gangste...</td>\n",
              "      <td>Movie</td>\n",
              "    </tr>\n",
              "  </tbody>\n",
              "</table>\n",
              "</div>\n",
              "    <div class=\"colab-df-buttons\">\n",
              "\n",
              "  <div class=\"colab-df-container\">\n",
              "    <button class=\"colab-df-convert\" onclick=\"convertToInteractive('df-96bcb30f-7ca1-45c4-a266-487c264a7987')\"\n",
              "            title=\"Convert this dataframe to an interactive table.\"\n",
              "            style=\"display:none;\">\n",
              "\n",
              "  <svg xmlns=\"http://www.w3.org/2000/svg\" height=\"24px\" viewBox=\"0 -960 960 960\">\n",
              "    <path d=\"M120-120v-720h720v720H120Zm60-500h600v-160H180v160Zm220 220h160v-160H400v160Zm0 220h160v-160H400v160ZM180-400h160v-160H180v160Zm440 0h160v-160H620v160ZM180-180h160v-160H180v160Zm440 0h160v-160H620v160Z\"/>\n",
              "  </svg>\n",
              "    </button>\n",
              "\n",
              "  <style>\n",
              "    .colab-df-container {\n",
              "      display:flex;\n",
              "      gap: 12px;\n",
              "    }\n",
              "\n",
              "    .colab-df-convert {\n",
              "      background-color: #E8F0FE;\n",
              "      border: none;\n",
              "      border-radius: 50%;\n",
              "      cursor: pointer;\n",
              "      display: none;\n",
              "      fill: #1967D2;\n",
              "      height: 32px;\n",
              "      padding: 0 0 0 0;\n",
              "      width: 32px;\n",
              "    }\n",
              "\n",
              "    .colab-df-convert:hover {\n",
              "      background-color: #E2EBFA;\n",
              "      box-shadow: 0px 1px 2px rgba(60, 64, 67, 0.3), 0px 1px 3px 1px rgba(60, 64, 67, 0.15);\n",
              "      fill: #174EA6;\n",
              "    }\n",
              "\n",
              "    .colab-df-buttons div {\n",
              "      margin-bottom: 4px;\n",
              "    }\n",
              "\n",
              "    [theme=dark] .colab-df-convert {\n",
              "      background-color: #3B4455;\n",
              "      fill: #D2E3FC;\n",
              "    }\n",
              "\n",
              "    [theme=dark] .colab-df-convert:hover {\n",
              "      background-color: #434B5C;\n",
              "      box-shadow: 0px 1px 3px 1px rgba(0, 0, 0, 0.15);\n",
              "      filter: drop-shadow(0px 1px 2px rgba(0, 0, 0, 0.3));\n",
              "      fill: #FFFFFF;\n",
              "    }\n",
              "  </style>\n",
              "\n",
              "    <script>\n",
              "      const buttonEl =\n",
              "        document.querySelector('#df-96bcb30f-7ca1-45c4-a266-487c264a7987 button.colab-df-convert');\n",
              "      buttonEl.style.display =\n",
              "        google.colab.kernel.accessAllowed ? 'block' : 'none';\n",
              "\n",
              "      async function convertToInteractive(key) {\n",
              "        const element = document.querySelector('#df-96bcb30f-7ca1-45c4-a266-487c264a7987');\n",
              "        const dataTable =\n",
              "          await google.colab.kernel.invokeFunction('convertToInteractive',\n",
              "                                                    [key], {});\n",
              "        if (!dataTable) return;\n",
              "\n",
              "        const docLinkHtml = 'Like what you see? Visit the ' +\n",
              "          '<a target=\"_blank\" href=https://colab.research.google.com/notebooks/data_table.ipynb>data table notebook</a>'\n",
              "          + ' to learn more about interactive tables.';\n",
              "        element.innerHTML = '';\n",
              "        dataTable['output_type'] = 'display_data';\n",
              "        await google.colab.output.renderOutput(dataTable, element);\n",
              "        const docLink = document.createElement('div');\n",
              "        docLink.innerHTML = docLinkHtml;\n",
              "        element.appendChild(docLink);\n",
              "      }\n",
              "    </script>\n",
              "  </div>\n",
              "\n",
              "\n",
              "<div id=\"df-5f89cedc-cd3b-49bf-b5cb-c97535851474\">\n",
              "  <button class=\"colab-df-quickchart\" onclick=\"quickchart('df-5f89cedc-cd3b-49bf-b5cb-c97535851474')\"\n",
              "            title=\"Suggest charts\"\n",
              "            style=\"display:none;\">\n",
              "\n",
              "<svg xmlns=\"http://www.w3.org/2000/svg\" height=\"24px\"viewBox=\"0 0 24 24\"\n",
              "     width=\"24px\">\n",
              "    <g>\n",
              "        <path d=\"M19 3H5c-1.1 0-2 .9-2 2v14c0 1.1.9 2 2 2h14c1.1 0 2-.9 2-2V5c0-1.1-.9-2-2-2zM9 17H7v-7h2v7zm4 0h-2V7h2v10zm4 0h-2v-4h2v4z\"/>\n",
              "    </g>\n",
              "</svg>\n",
              "  </button>\n",
              "\n",
              "<style>\n",
              "  .colab-df-quickchart {\n",
              "      --bg-color: #E8F0FE;\n",
              "      --fill-color: #1967D2;\n",
              "      --hover-bg-color: #E2EBFA;\n",
              "      --hover-fill-color: #174EA6;\n",
              "      --disabled-fill-color: #AAA;\n",
              "      --disabled-bg-color: #DDD;\n",
              "  }\n",
              "\n",
              "  [theme=dark] .colab-df-quickchart {\n",
              "      --bg-color: #3B4455;\n",
              "      --fill-color: #D2E3FC;\n",
              "      --hover-bg-color: #434B5C;\n",
              "      --hover-fill-color: #FFFFFF;\n",
              "      --disabled-bg-color: #3B4455;\n",
              "      --disabled-fill-color: #666;\n",
              "  }\n",
              "\n",
              "  .colab-df-quickchart {\n",
              "    background-color: var(--bg-color);\n",
              "    border: none;\n",
              "    border-radius: 50%;\n",
              "    cursor: pointer;\n",
              "    display: none;\n",
              "    fill: var(--fill-color);\n",
              "    height: 32px;\n",
              "    padding: 0;\n",
              "    width: 32px;\n",
              "  }\n",
              "\n",
              "  .colab-df-quickchart:hover {\n",
              "    background-color: var(--hover-bg-color);\n",
              "    box-shadow: 0 1px 2px rgba(60, 64, 67, 0.3), 0 1px 3px 1px rgba(60, 64, 67, 0.15);\n",
              "    fill: var(--button-hover-fill-color);\n",
              "  }\n",
              "\n",
              "  .colab-df-quickchart-complete:disabled,\n",
              "  .colab-df-quickchart-complete:disabled:hover {\n",
              "    background-color: var(--disabled-bg-color);\n",
              "    fill: var(--disabled-fill-color);\n",
              "    box-shadow: none;\n",
              "  }\n",
              "\n",
              "  .colab-df-spinner {\n",
              "    border: 2px solid var(--fill-color);\n",
              "    border-color: transparent;\n",
              "    border-bottom-color: var(--fill-color);\n",
              "    animation:\n",
              "      spin 1s steps(1) infinite;\n",
              "  }\n",
              "\n",
              "  @keyframes spin {\n",
              "    0% {\n",
              "      border-color: transparent;\n",
              "      border-bottom-color: var(--fill-color);\n",
              "      border-left-color: var(--fill-color);\n",
              "    }\n",
              "    20% {\n",
              "      border-color: transparent;\n",
              "      border-left-color: var(--fill-color);\n",
              "      border-top-color: var(--fill-color);\n",
              "    }\n",
              "    30% {\n",
              "      border-color: transparent;\n",
              "      border-left-color: var(--fill-color);\n",
              "      border-top-color: var(--fill-color);\n",
              "      border-right-color: var(--fill-color);\n",
              "    }\n",
              "    40% {\n",
              "      border-color: transparent;\n",
              "      border-right-color: var(--fill-color);\n",
              "      border-top-color: var(--fill-color);\n",
              "    }\n",
              "    60% {\n",
              "      border-color: transparent;\n",
              "      border-right-color: var(--fill-color);\n",
              "    }\n",
              "    80% {\n",
              "      border-color: transparent;\n",
              "      border-right-color: var(--fill-color);\n",
              "      border-bottom-color: var(--fill-color);\n",
              "    }\n",
              "    90% {\n",
              "      border-color: transparent;\n",
              "      border-bottom-color: var(--fill-color);\n",
              "    }\n",
              "  }\n",
              "</style>\n",
              "\n",
              "  <script>\n",
              "    async function quickchart(key) {\n",
              "      const quickchartButtonEl =\n",
              "        document.querySelector('#' + key + ' button');\n",
              "      quickchartButtonEl.disabled = true;  // To prevent multiple clicks.\n",
              "      quickchartButtonEl.classList.add('colab-df-spinner');\n",
              "      try {\n",
              "        const charts = await google.colab.kernel.invokeFunction(\n",
              "            'suggestCharts', [key], {});\n",
              "      } catch (error) {\n",
              "        console.error('Error during call to suggestCharts:', error);\n",
              "      }\n",
              "      quickchartButtonEl.classList.remove('colab-df-spinner');\n",
              "      quickchartButtonEl.classList.add('colab-df-quickchart-complete');\n",
              "    }\n",
              "    (() => {\n",
              "      let quickchartButtonEl =\n",
              "        document.querySelector('#df-5f89cedc-cd3b-49bf-b5cb-c97535851474 button');\n",
              "      quickchartButtonEl.style.display =\n",
              "        google.colab.kernel.accessAllowed ? 'block' : 'none';\n",
              "    })();\n",
              "  </script>\n",
              "</div>\n",
              "\n",
              "    </div>\n",
              "  </div>\n"
            ],
            "application/vnd.google.colaboratory.intrinsic+json": {
              "type": "dataframe",
              "repr_error": "0"
            }
          },
          "metadata": {},
          "execution_count": 54
        }
      ]
    },
    {
      "cell_type": "code",
      "source": [
        "# Drop duplicate rows\n",
        "final_data_df.drop_duplicates(inplace=True)\n",
        "print(\"Number of duplicate rows :\",final_data_df.duplicated().sum())"
      ],
      "metadata": {
        "colab": {
          "base_uri": "https://localhost:8080/"
        },
        "id": "Eay4fudvC8SF",
        "outputId": "67e19859-458b-4141-e485-e49e506b08e0"
      },
      "execution_count": null,
      "outputs": [
        {
          "output_type": "stream",
          "name": "stdout",
          "text": [
            "Number of duplicate rows : 0\n"
          ]
        }
      ]
    },
    {
      "cell_type": "code",
      "source": [
        "# Write Your Code here\n",
        "final_data_df['Imdb Rating'] = final_data_df['Imdb Rating'].astype(float)"
      ],
      "metadata": {
        "id": "ly64H04vH1v9"
      },
      "execution_count": null,
      "outputs": []
    },
    {
      "cell_type": "code",
      "source": [
        "# Dataset Info\n",
        "final_data_df.info()"
      ],
      "metadata": {
        "colab": {
          "base_uri": "https://localhost:8080/"
        },
        "id": "vpkMEs4kEsT3",
        "outputId": "87996444-e31a-43aa-efc1-3998e1f57679"
      },
      "execution_count": null,
      "outputs": [
        {
          "output_type": "stream",
          "name": "stdout",
          "text": [
            "<class 'pandas.core.frame.DataFrame'>\n",
            "Index: 206 entries, 0 to 99\n",
            "Data columns (total 10 columns):\n",
            " #   Column              Non-Null Count  Dtype  \n",
            "---  ------              --------------  -----  \n",
            " 0   Title               206 non-null    object \n",
            " 1   Release Year        206 non-null    object \n",
            " 2   Genre               206 non-null    object \n",
            " 3   Imdb Rating         196 non-null    float64\n",
            " 4   Runtime             206 non-null    object \n",
            " 5   Age Rating          206 non-null    object \n",
            " 6   Country origin      206 non-null    object \n",
            " 7   Streaming Provider  206 non-null    object \n",
            " 8   Url                 206 non-null    object \n",
            " 9   Type                206 non-null    object \n",
            "dtypes: float64(1), object(9)\n",
            "memory usage: 17.7+ KB\n"
          ]
        }
      ]
    },
    {
      "cell_type": "code",
      "source": [
        "# Updated shape of the dataset\n",
        "final_data_df.shape"
      ],
      "metadata": {
        "colab": {
          "base_uri": "https://localhost:8080/"
        },
        "id": "qGjTkrFrDRlT",
        "outputId": "e19f8986-6b01-43c4-bf74-05a8346793ee"
      },
      "execution_count": null,
      "outputs": [
        {
          "output_type": "execute_result",
          "data": {
            "text/plain": [
              "(206, 10)"
            ]
          },
          "metadata": {},
          "execution_count": 58
        }
      ]
    },
    {
      "cell_type": "markdown",
      "source": [
        "## **Calculating Mean IMDB Ratings for both Movies and Tv Shows**"
      ],
      "metadata": {
        "id": "0bPDbn-gPyfm"
      }
    },
    {
      "cell_type": "code",
      "source": [
        "# Write Your Code here\n",
        "Mean_Rating = final_data_df.groupby(\"Type\").agg({\"Imdb Rating\" : 'mean'})\n",
        "print(\"Mean\")\n",
        "Mean_Rating"
      ],
      "metadata": {
        "id": "6aGmGPOlIkk4",
        "colab": {
          "base_uri": "https://localhost:8080/"
        },
        "outputId": "bbbd5964-a7f3-4889-f3f8-13ecd9ee9421"
      },
      "execution_count": null,
      "outputs": [
        {
          "output_type": "stream",
          "name": "stdout",
          "text": [
            "Mean\n"
          ]
        },
        {
          "output_type": "execute_result",
          "data": {
            "text/plain": [
              "         Imdb Rating\n",
              "Type                \n",
              "Movie       7.026263\n",
              "Tv Show     7.687629"
            ],
            "text/html": [
              "\n",
              "  <div id=\"df-54f0c241-ec49-4b6c-8826-a9d8de6c62b1\" class=\"colab-df-container\">\n",
              "    <div>\n",
              "<style scoped>\n",
              "    .dataframe tbody tr th:only-of-type {\n",
              "        vertical-align: middle;\n",
              "    }\n",
              "\n",
              "    .dataframe tbody tr th {\n",
              "        vertical-align: top;\n",
              "    }\n",
              "\n",
              "    .dataframe thead th {\n",
              "        text-align: right;\n",
              "    }\n",
              "</style>\n",
              "<table border=\"1\" class=\"dataframe\">\n",
              "  <thead>\n",
              "    <tr style=\"text-align: right;\">\n",
              "      <th></th>\n",
              "      <th>Imdb Rating</th>\n",
              "    </tr>\n",
              "    <tr>\n",
              "      <th>Type</th>\n",
              "      <th></th>\n",
              "    </tr>\n",
              "  </thead>\n",
              "  <tbody>\n",
              "    <tr>\n",
              "      <th>Movie</th>\n",
              "      <td>7.026263</td>\n",
              "    </tr>\n",
              "    <tr>\n",
              "      <th>Tv Show</th>\n",
              "      <td>7.687629</td>\n",
              "    </tr>\n",
              "  </tbody>\n",
              "</table>\n",
              "</div>\n",
              "    <div class=\"colab-df-buttons\">\n",
              "\n",
              "  <div class=\"colab-df-container\">\n",
              "    <button class=\"colab-df-convert\" onclick=\"convertToInteractive('df-54f0c241-ec49-4b6c-8826-a9d8de6c62b1')\"\n",
              "            title=\"Convert this dataframe to an interactive table.\"\n",
              "            style=\"display:none;\">\n",
              "\n",
              "  <svg xmlns=\"http://www.w3.org/2000/svg\" height=\"24px\" viewBox=\"0 -960 960 960\">\n",
              "    <path d=\"M120-120v-720h720v720H120Zm60-500h600v-160H180v160Zm220 220h160v-160H400v160Zm0 220h160v-160H400v160ZM180-400h160v-160H180v160Zm440 0h160v-160H620v160ZM180-180h160v-160H180v160Zm440 0h160v-160H620v160Z\"/>\n",
              "  </svg>\n",
              "    </button>\n",
              "\n",
              "  <style>\n",
              "    .colab-df-container {\n",
              "      display:flex;\n",
              "      gap: 12px;\n",
              "    }\n",
              "\n",
              "    .colab-df-convert {\n",
              "      background-color: #E8F0FE;\n",
              "      border: none;\n",
              "      border-radius: 50%;\n",
              "      cursor: pointer;\n",
              "      display: none;\n",
              "      fill: #1967D2;\n",
              "      height: 32px;\n",
              "      padding: 0 0 0 0;\n",
              "      width: 32px;\n",
              "    }\n",
              "\n",
              "    .colab-df-convert:hover {\n",
              "      background-color: #E2EBFA;\n",
              "      box-shadow: 0px 1px 2px rgba(60, 64, 67, 0.3), 0px 1px 3px 1px rgba(60, 64, 67, 0.15);\n",
              "      fill: #174EA6;\n",
              "    }\n",
              "\n",
              "    .colab-df-buttons div {\n",
              "      margin-bottom: 4px;\n",
              "    }\n",
              "\n",
              "    [theme=dark] .colab-df-convert {\n",
              "      background-color: #3B4455;\n",
              "      fill: #D2E3FC;\n",
              "    }\n",
              "\n",
              "    [theme=dark] .colab-df-convert:hover {\n",
              "      background-color: #434B5C;\n",
              "      box-shadow: 0px 1px 3px 1px rgba(0, 0, 0, 0.15);\n",
              "      filter: drop-shadow(0px 1px 2px rgba(0, 0, 0, 0.3));\n",
              "      fill: #FFFFFF;\n",
              "    }\n",
              "  </style>\n",
              "\n",
              "    <script>\n",
              "      const buttonEl =\n",
              "        document.querySelector('#df-54f0c241-ec49-4b6c-8826-a9d8de6c62b1 button.colab-df-convert');\n",
              "      buttonEl.style.display =\n",
              "        google.colab.kernel.accessAllowed ? 'block' : 'none';\n",
              "\n",
              "      async function convertToInteractive(key) {\n",
              "        const element = document.querySelector('#df-54f0c241-ec49-4b6c-8826-a9d8de6c62b1');\n",
              "        const dataTable =\n",
              "          await google.colab.kernel.invokeFunction('convertToInteractive',\n",
              "                                                    [key], {});\n",
              "        if (!dataTable) return;\n",
              "\n",
              "        const docLinkHtml = 'Like what you see? Visit the ' +\n",
              "          '<a target=\"_blank\" href=https://colab.research.google.com/notebooks/data_table.ipynb>data table notebook</a>'\n",
              "          + ' to learn more about interactive tables.';\n",
              "        element.innerHTML = '';\n",
              "        dataTable['output_type'] = 'display_data';\n",
              "        await google.colab.output.renderOutput(dataTable, element);\n",
              "        const docLink = document.createElement('div');\n",
              "        docLink.innerHTML = docLinkHtml;\n",
              "        element.appendChild(docLink);\n",
              "      }\n",
              "    </script>\n",
              "  </div>\n",
              "\n",
              "\n",
              "<div id=\"df-37eaefe0-5e05-4e28-9534-d44207785eca\">\n",
              "  <button class=\"colab-df-quickchart\" onclick=\"quickchart('df-37eaefe0-5e05-4e28-9534-d44207785eca')\"\n",
              "            title=\"Suggest charts\"\n",
              "            style=\"display:none;\">\n",
              "\n",
              "<svg xmlns=\"http://www.w3.org/2000/svg\" height=\"24px\"viewBox=\"0 0 24 24\"\n",
              "     width=\"24px\">\n",
              "    <g>\n",
              "        <path d=\"M19 3H5c-1.1 0-2 .9-2 2v14c0 1.1.9 2 2 2h14c1.1 0 2-.9 2-2V5c0-1.1-.9-2-2-2zM9 17H7v-7h2v7zm4 0h-2V7h2v10zm4 0h-2v-4h2v4z\"/>\n",
              "    </g>\n",
              "</svg>\n",
              "  </button>\n",
              "\n",
              "<style>\n",
              "  .colab-df-quickchart {\n",
              "      --bg-color: #E8F0FE;\n",
              "      --fill-color: #1967D2;\n",
              "      --hover-bg-color: #E2EBFA;\n",
              "      --hover-fill-color: #174EA6;\n",
              "      --disabled-fill-color: #AAA;\n",
              "      --disabled-bg-color: #DDD;\n",
              "  }\n",
              "\n",
              "  [theme=dark] .colab-df-quickchart {\n",
              "      --bg-color: #3B4455;\n",
              "      --fill-color: #D2E3FC;\n",
              "      --hover-bg-color: #434B5C;\n",
              "      --hover-fill-color: #FFFFFF;\n",
              "      --disabled-bg-color: #3B4455;\n",
              "      --disabled-fill-color: #666;\n",
              "  }\n",
              "\n",
              "  .colab-df-quickchart {\n",
              "    background-color: var(--bg-color);\n",
              "    border: none;\n",
              "    border-radius: 50%;\n",
              "    cursor: pointer;\n",
              "    display: none;\n",
              "    fill: var(--fill-color);\n",
              "    height: 32px;\n",
              "    padding: 0;\n",
              "    width: 32px;\n",
              "  }\n",
              "\n",
              "  .colab-df-quickchart:hover {\n",
              "    background-color: var(--hover-bg-color);\n",
              "    box-shadow: 0 1px 2px rgba(60, 64, 67, 0.3), 0 1px 3px 1px rgba(60, 64, 67, 0.15);\n",
              "    fill: var(--button-hover-fill-color);\n",
              "  }\n",
              "\n",
              "  .colab-df-quickchart-complete:disabled,\n",
              "  .colab-df-quickchart-complete:disabled:hover {\n",
              "    background-color: var(--disabled-bg-color);\n",
              "    fill: var(--disabled-fill-color);\n",
              "    box-shadow: none;\n",
              "  }\n",
              "\n",
              "  .colab-df-spinner {\n",
              "    border: 2px solid var(--fill-color);\n",
              "    border-color: transparent;\n",
              "    border-bottom-color: var(--fill-color);\n",
              "    animation:\n",
              "      spin 1s steps(1) infinite;\n",
              "  }\n",
              "\n",
              "  @keyframes spin {\n",
              "    0% {\n",
              "      border-color: transparent;\n",
              "      border-bottom-color: var(--fill-color);\n",
              "      border-left-color: var(--fill-color);\n",
              "    }\n",
              "    20% {\n",
              "      border-color: transparent;\n",
              "      border-left-color: var(--fill-color);\n",
              "      border-top-color: var(--fill-color);\n",
              "    }\n",
              "    30% {\n",
              "      border-color: transparent;\n",
              "      border-left-color: var(--fill-color);\n",
              "      border-top-color: var(--fill-color);\n",
              "      border-right-color: var(--fill-color);\n",
              "    }\n",
              "    40% {\n",
              "      border-color: transparent;\n",
              "      border-right-color: var(--fill-color);\n",
              "      border-top-color: var(--fill-color);\n",
              "    }\n",
              "    60% {\n",
              "      border-color: transparent;\n",
              "      border-right-color: var(--fill-color);\n",
              "    }\n",
              "    80% {\n",
              "      border-color: transparent;\n",
              "      border-right-color: var(--fill-color);\n",
              "      border-bottom-color: var(--fill-color);\n",
              "    }\n",
              "    90% {\n",
              "      border-color: transparent;\n",
              "      border-bottom-color: var(--fill-color);\n",
              "    }\n",
              "  }\n",
              "</style>\n",
              "\n",
              "  <script>\n",
              "    async function quickchart(key) {\n",
              "      const quickchartButtonEl =\n",
              "        document.querySelector('#' + key + ' button');\n",
              "      quickchartButtonEl.disabled = true;  // To prevent multiple clicks.\n",
              "      quickchartButtonEl.classList.add('colab-df-spinner');\n",
              "      try {\n",
              "        const charts = await google.colab.kernel.invokeFunction(\n",
              "            'suggestCharts', [key], {});\n",
              "      } catch (error) {\n",
              "        console.error('Error during call to suggestCharts:', error);\n",
              "      }\n",
              "      quickchartButtonEl.classList.remove('colab-df-spinner');\n",
              "      quickchartButtonEl.classList.add('colab-df-quickchart-complete');\n",
              "    }\n",
              "    (() => {\n",
              "      let quickchartButtonEl =\n",
              "        document.querySelector('#df-37eaefe0-5e05-4e28-9534-d44207785eca button');\n",
              "      quickchartButtonEl.style.display =\n",
              "        google.colab.kernel.accessAllowed ? 'block' : 'none';\n",
              "    })();\n",
              "  </script>\n",
              "</div>\n",
              "\n",
              "  <div id=\"id_f2bc99d2-df5c-42d8-baa8-698a38bd9a89\">\n",
              "    <style>\n",
              "      .colab-df-generate {\n",
              "        background-color: #E8F0FE;\n",
              "        border: none;\n",
              "        border-radius: 50%;\n",
              "        cursor: pointer;\n",
              "        display: none;\n",
              "        fill: #1967D2;\n",
              "        height: 32px;\n",
              "        padding: 0 0 0 0;\n",
              "        width: 32px;\n",
              "      }\n",
              "\n",
              "      .colab-df-generate:hover {\n",
              "        background-color: #E2EBFA;\n",
              "        box-shadow: 0px 1px 2px rgba(60, 64, 67, 0.3), 0px 1px 3px 1px rgba(60, 64, 67, 0.15);\n",
              "        fill: #174EA6;\n",
              "      }\n",
              "\n",
              "      [theme=dark] .colab-df-generate {\n",
              "        background-color: #3B4455;\n",
              "        fill: #D2E3FC;\n",
              "      }\n",
              "\n",
              "      [theme=dark] .colab-df-generate:hover {\n",
              "        background-color: #434B5C;\n",
              "        box-shadow: 0px 1px 3px 1px rgba(0, 0, 0, 0.15);\n",
              "        filter: drop-shadow(0px 1px 2px rgba(0, 0, 0, 0.3));\n",
              "        fill: #FFFFFF;\n",
              "      }\n",
              "    </style>\n",
              "    <button class=\"colab-df-generate\" onclick=\"generateWithVariable('Mean_Rating')\"\n",
              "            title=\"Generate code using this dataframe.\"\n",
              "            style=\"display:none;\">\n",
              "\n",
              "  <svg xmlns=\"http://www.w3.org/2000/svg\" height=\"24px\"viewBox=\"0 0 24 24\"\n",
              "       width=\"24px\">\n",
              "    <path d=\"M7,19H8.4L18.45,9,17,7.55,7,17.6ZM5,21V16.75L18.45,3.32a2,2,0,0,1,2.83,0l1.4,1.43a1.91,1.91,0,0,1,.58,1.4,1.91,1.91,0,0,1-.58,1.4L9.25,21ZM18.45,9,17,7.55Zm-12,3A5.31,5.31,0,0,0,4.9,8.1,5.31,5.31,0,0,0,1,6.5,5.31,5.31,0,0,0,4.9,4.9,5.31,5.31,0,0,0,6.5,1,5.31,5.31,0,0,0,8.1,4.9,5.31,5.31,0,0,0,12,6.5,5.46,5.46,0,0,0,6.5,12Z\"/>\n",
              "  </svg>\n",
              "    </button>\n",
              "    <script>\n",
              "      (() => {\n",
              "      const buttonEl =\n",
              "        document.querySelector('#id_f2bc99d2-df5c-42d8-baa8-698a38bd9a89 button.colab-df-generate');\n",
              "      buttonEl.style.display =\n",
              "        google.colab.kernel.accessAllowed ? 'block' : 'none';\n",
              "\n",
              "      buttonEl.onclick = () => {\n",
              "        google.colab.notebook.generateWithVariable('Mean_Rating');\n",
              "      }\n",
              "      })();\n",
              "    </script>\n",
              "  </div>\n",
              "\n",
              "    </div>\n",
              "  </div>\n"
            ],
            "application/vnd.google.colaboratory.intrinsic+json": {
              "type": "dataframe",
              "variable_name": "Mean_Rating",
              "summary": "{\n  \"name\": \"Mean_Rating\",\n  \"rows\": 2,\n  \"fields\": [\n    {\n      \"column\": \"Type\",\n      \"properties\": {\n        \"dtype\": \"string\",\n        \"num_unique_values\": 2,\n        \"samples\": [\n          \"Tv Show\",\n          \"Movie\"\n        ],\n        \"semantic_type\": \"\",\n        \"description\": \"\"\n      }\n    },\n    {\n      \"column\": \"Imdb Rating\",\n      \"properties\": {\n        \"dtype\": \"number\",\n        \"std\": 0.4676565529515652,\n        \"min\": 7.026262626262627,\n        \"max\": 7.687628865979382,\n        \"num_unique_values\": 2,\n        \"samples\": [\n          7.687628865979382,\n          7.026262626262627\n        ],\n        \"semantic_type\": \"\",\n        \"description\": \"\"\n      }\n    }\n  ]\n}"
            }
          },
          "metadata": {},
          "execution_count": 59
        }
      ]
    },
    {
      "cell_type": "markdown",
      "source": [
        "## **Analyzing Top Genres**"
      ],
      "metadata": {
        "id": "N_OroblUQG4r"
      }
    },
    {
      "cell_type": "code",
      "source": [
        "# Write Your Code here\n",
        "## for Movies\n",
        "Genre_count = Movies_df['Genre'].value_counts().sort_values(ascending=False)\n",
        "Top_5_genres_visulalize = Genre_count.head(5)\n",
        "Top_5_genres = Genre_count.head(5).index.tolist()\n",
        "Top_5_genres"
      ],
      "metadata": {
        "id": "4ljPnIn2LJLZ",
        "colab": {
          "base_uri": "https://localhost:8080/"
        },
        "outputId": "be09e1d3-3189-41d9-8b61-74a33517213d"
      },
      "execution_count": null,
      "outputs": [
        {
          "output_type": "execute_result",
          "data": {
            "text/plain": [
              "['Drama',\n",
              " 'Comedy, Drama',\n",
              " 'Romance, Drama',\n",
              " 'Horror, Mystery & Thriller',\n",
              " 'Comedy, Action & Adventure']"
            ]
          },
          "metadata": {},
          "execution_count": 60
        }
      ]
    },
    {
      "cell_type": "code",
      "source": [
        "# Visualize the data\n",
        "\n",
        "plt.bar(x =Top_5_genres_visulalize.index,height =Top_5_genres_visulalize.values)\n",
        "plt.xlabel('Genre')\n",
        "plt.ylabel('Number of Movies and TV Shows')\n",
        "plt.title('Top 5 Genres with the Most Movies and TV Shows')\n",
        "plt.xticks(rotation=45, ha='right')\n",
        "plt.show()"
      ],
      "metadata": {
        "colab": {
          "base_uri": "https://localhost:8080/"
        },
        "id": "dS09GAtEGSRm",
        "outputId": "ef52c573-91d3-4118-ab3b-429c8fe90c70"
      },
      "execution_count": null,
      "outputs": [
        {
          "output_type": "display_data",
          "data": {
            "text/plain": [
              "<Figure size 640x480 with 1 Axes>"
            ],
            "image/png": "[encoded data removed]"
          },
          "metadata": {}
        }
      ]
    },
    {
      "cell_type": "code",
      "source": [
        "#Let's Visvalize it using word cloud\n",
        "all_genres = ' '.join(final_data_df['Genre'])\n",
        "wordcloud = WordCloud(width=800, height=400, background_color='white').generate(all_genres)\n",
        "plt.figure(figsize=(10, 5))\n",
        "plt.imshow(wordcloud, interpolation='bilinear')\n",
        "plt.axis('off')\n",
        "plt.show()"
      ],
      "metadata": {
        "id": "7Nqu7MEEYa3c",
        "colab": {
          "base_uri": "https://localhost:8080/"
        },
        "outputId": "e2c01663-deb7-44dd-9f09-dc6d8731b5e8"
      },
      "execution_count": null,
      "outputs": [
        {
          "output_type": "display_data",
          "data": {
            "text/plain": [
              "<Figure size 1000x500 with 1 Axes>"
            ],
            "image/png": "[encoded data removed]"
          },
          "metadata": {}
        }
      ]
    },
    {
      "cell_type": "markdown",
      "source": [
        "## **Finding Predominant Streaming Service**"
      ],
      "metadata": {
        "id": "BUPye0P0QP5I"
      }
    },
    {
      "cell_type": "code",
      "source": [
        "# Write Your Code here\n",
        "##Counting Streaming Service\n",
        "Streaming_service_counts = final_data_df['Streaming Provider'].value_counts().sort_values(ascending = False)\n",
        "Streaming_service_counts\n"
      ],
      "metadata": {
        "id": "cLXiCZSAO_40",
        "colab": {
          "base_uri": "https://localhost:8080/"
        },
        "outputId": "88cffaba-062d-4f7e-9542-d4d557529251"
      },
      "execution_count": null,
      "outputs": [
        {
          "output_type": "execute_result",
          "data": {
            "text/plain": [
              "Streaming Provider\n",
              "Netflix                                                                                         42\n",
              "Amazon Prime Video                                                                              41\n",
              "Apple TV                                                                                        24\n",
              "Hotstar                                                                                         16\n",
              "NA                                                                                              16\n",
              "Jio Cinema                                                                                      11\n",
              "Sony Liv                                                                                         8\n",
              "Na                                                                                               7\n",
              "Bookmyshow                                                                                       5\n",
              "Alt Balaji                                                                                       3\n",
              "Zee5,VI movies and tv                                                                            2\n",
              "Apple TV+                                                                                        2\n",
              "Lionsgate Play,Lionsgate Play Apple TV Channel,Lionsgate Play Amazon Channel                     2\n",
              "aha                                                                                              2\n",
              "Zee5                                                                                             2\n",
              "Netflix,Crunchyroll,Crunchyroll Amazon Channel                                                   2\n",
              "Amazon Prime Video,Netflix,Sony Liv                                                              1\n",
              "Hotstar,Jio Cinema,Zee5                                                                          1\n",
              "MUBI,MUBI Amazon Channel                                                                         1\n",
              "Hotstar,aha                                                                                      1\n",
              "Lionsgate Play                                                                                   1\n",
              "Jio Cinema,Alt Balaji                                                                            1\n",
              "Amazon Prime Video,Anime Times Amazon Channel                                                    1\n",
              "MX Player                                                                                        1\n",
              "Netflix,Jio Cinema                                                                               1\n",
              "MX Player,Amazon miniTV                                                                          1\n",
              "Netflix,Amazon Prime Video                                                                       1\n",
              "Netflix,Amazon Prime Video,Crunchyroll,Crunchyroll Amazon Channel,Anime Times Amazon Channel     1\n",
              "VI movies and tv,Zee5                                                                            1\n",
              "Netflix,Amazon Prime Video,Crunchyroll,Anime Times Amazon Channel,Crunchyroll Amazon Channel     1\n",
              "Sony Liv,VI movies and tv                                                                        1\n",
              "Jio Cinema,Netflix                                                                               1\n",
              "Amazon Prime Video,Netflix                                                                       1\n",
              "Netflix,Hotstar                                                                                  1\n",
              "Crunchyroll,Crunchyroll Amazon Channel                                                           1\n",
              "Netflix,Amazon Prime Video,Anime Times Amazon Channel                                            1\n",
              "Netflix,Amazon Prime Video,Jio Cinema                                                            1\n",
              "Name: count, dtype: int64"
            ]
          },
          "metadata": {},
          "execution_count": 63
        }
      ]
    },
    {
      "cell_type": "code",
      "source": [
        "#Let's Visvalize it using word cloud\n",
        "\n",
        "all_genres = ' '.join(final_data_df['Streaming Provider'])\n",
        "wordcloud = WordCloud(width=800, height=400, background_color='white').generate(all_genres)\n",
        "plt.figure(figsize=(10, 5))\n",
        "plt.imshow(wordcloud, interpolation='bilinear')\n",
        "plt.axis('off')\n",
        "plt.show()"
      ],
      "metadata": {
        "id": "e0xdIO8APJYm",
        "colab": {
          "base_uri": "https://localhost:8080/"
        },
        "outputId": "0f328968-56ba-46fa-c50e-f8b37e93d6b8"
      },
      "execution_count": null,
      "outputs": [
        {
          "output_type": "display_data",
          "data": {
            "text/plain": [
              "<Figure size 1000x500 with 1 Axes>"
            ],
            "image/png": "[encoded data removed]"
          },
          "metadata": {}
        }
      ]
    },
    {
      "cell_type": "markdown",
      "source": [
        "## **Task 3 :- Data Export**"
      ],
      "metadata": {
        "id": "tytqsADVR2x6"
      }
    },
    {
      "cell_type": "code",
      "source": [
        "#saving Data in csv format\n",
        "Movies_df.to_csv(\"Movies Data.csv\")\n",
        "Tv_Shows_df.to_csv(\"TV Shows Data.csv\")"
      ],
      "metadata": {
        "id": "u4yaUlvrRj6g"
      },
      "execution_count": null,
      "outputs": []
    },
    {
      "cell_type": "code",
      "source": [
        "#saving filter data as Filter Data in csv format\n",
        "final_data_df.to_csv(\"Filter Data.csv\")"
      ],
      "metadata": {
        "id": "SSmCEV22SSW_"
      },
      "execution_count": null,
      "outputs": []
    },
    {
      "cell_type": "markdown",
      "source": [
        "# **Dataset Drive Link (View Access with Anyone) -**\n",
        "https://drive.google.com/drive/folders/1DAwZ1uy8vzG2YO48vbDHh-UTia3qDQfW?usp=sharing"
      ],
      "metadata": {
        "id": "j6F3wrlGWOcl"
      }
    },
    {
      "cell_type": "markdown",
      "source": [
        "# ***Congratulations!!! You have completed your Assignment.***"
      ],
      "metadata": {
        "id": "9s-10dFhWZf4"
      }
    }
  ]
}